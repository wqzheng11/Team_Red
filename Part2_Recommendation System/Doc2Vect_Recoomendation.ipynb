{
 "cells": [
  {
   "cell_type": "markdown",
   "metadata": {},
   "source": [
    "# Note before use:"
   ]
  },
  {
   "cell_type": "markdown",
   "metadata": {},
   "source": [
    "Cell [1-16] contain codes that need to be run one time when the server / machine initializes\n",
    "\n",
    "Cell [17-18] contains the search function that can be called directly by entering a user search query\n",
    "\n",
    "Cell [19-20] contain two sample queries"
   ]
  },
  {
   "cell_type": "code",
   "execution_count": 1,
   "metadata": {},
   "outputs": [
    {
     "name": "stderr",
     "output_type": "stream",
     "text": [
      "/Users/qiongqionglin/opt/anaconda3/lib/python3.6/site-packages/gensim/similarities/__init__.py:15: UserWarning: The gensim.similarities.levenshtein submodule is disabled, because the optional Levenshtein package <https://pypi.org/project/python-Levenshtein/> is unavailable. Install Levenhstein (e.g. `pip install python-Levenshtein`) to suppress this warning.\n",
      "  warnings.warn(msg)\n"
     ]
    }
   ],
   "source": [
    "import numpy as np\n",
    "import pandas as pd\n",
    "import gensim \n",
    "from gensim.models import Word2Vec\n",
    "from urllib import request\n",
    "import warnings\n",
    "import re\n",
    "warnings.filterwarnings('ignore')\n",
    "import spacy\n"
   ]
  },
  {
   "cell_type": "markdown",
   "metadata": {},
   "source": [
    "# Data Cleaning"
   ]
  },
  {
   "cell_type": "markdown",
   "metadata": {},
   "source": [
    "## Import product data and filter out data only for women's clothing"
   ]
  },
  {
   "cell_type": "code",
   "execution_count": 2,
   "metadata": {},
   "outputs": [],
   "source": [
    "data = pd.read_excel(\"Behold+product+data+04262021.xlsx\")\n",
    "data['is_womens_clothing'] = data.apply(lambda x: x.astype(str).str.\\\n",
    "                            findall(r'\\b(woman|women|girls?|females?|lady|ladies|unisex|women\\'s|woman\\'s)\\b', re.IGNORECASE).any(), axis=1)\n",
    "\n",
    "# Turn results from \"list\" to \"boolean\" (binary)\n",
    "for i in range(len(data['is_womens_clothing'])):\n",
    "    if len(data.loc[i,'is_womens_clothing']) == 0:\n",
    "        data.loc[i,'is_womens_clothing'] = 0\n",
    "    else:\n",
    "        data.loc[i,'is_womens_clothing'] = 1\n",
    "        \n",
    "# Filter out women's clothings only for the focus of this project\n",
    "data = data.loc[data.is_womens_clothing == 1, :]"
   ]
  },
  {
   "cell_type": "markdown",
   "metadata": {},
   "source": [
    "## Combine outfit data & additional tags data with product data"
   ]
  },
  {
   "cell_type": "code",
   "execution_count": 3,
   "metadata": {},
   "outputs": [],
   "source": [
    "outfit = pd.read_csv(\"outfit_combinations USC.csv\")\n",
    "fulldata = data.merge(outfit, left_on = \"product_id\", right_on = \"product_id\", how = \"inner\")\n",
    "fulldata.drop_duplicates()\n",
    "fulldata = fulldata.loc[:,[\"product_id\",\"outfit_id\",\"outfit_item_type\",\"brand_x\",\"product_full_name\",\"description\",\"details\"]]\n",
    "fulldata.rename(columns={\"brand_x\": \"brand\"}, inplace=True)"
   ]
  },
  {
   "cell_type": "code",
   "execution_count": 4,
   "metadata": {},
   "outputs": [],
   "source": [
    "tags=pd.read_csv(\"usc_additional_tags USC.csv\")"
   ]
  },
  {
   "cell_type": "code",
   "execution_count": 5,
   "metadata": {},
   "outputs": [],
   "source": [
    "tag=pd.DataFrame(tags.groupby(['product_id']).agg({'attribute_value':lambda x:' '.join(set(x))}))"
   ]
  },
  {
   "cell_type": "code",
   "execution_count": 6,
   "metadata": {},
   "outputs": [
    {
     "data": {
      "text/html": [
       "<div>\n",
       "<style scoped>\n",
       "    .dataframe tbody tr th:only-of-type {\n",
       "        vertical-align: middle;\n",
       "    }\n",
       "\n",
       "    .dataframe tbody tr th {\n",
       "        vertical-align: top;\n",
       "    }\n",
       "\n",
       "    .dataframe thead th {\n",
       "        text-align: right;\n",
       "    }\n",
       "</style>\n",
       "<table border=\"1\" class=\"dataframe\">\n",
       "  <thead>\n",
       "    <tr style=\"text-align: right;\">\n",
       "      <th></th>\n",
       "      <th>attribute_value</th>\n",
       "    </tr>\n",
       "    <tr>\n",
       "      <th>product_id</th>\n",
       "      <th></th>\n",
       "    </tr>\n",
       "  </thead>\n",
       "  <tbody>\n",
       "    <tr>\n",
       "      <th>01DMBRYVA2P5H24WK0HTK4R0A1</th>\n",
       "      <td>beiges bottom</td>\n",
       "    </tr>\n",
       "    <tr>\n",
       "      <th>01DMBRYVA2PEPWFTT7RMP5AA1T</th>\n",
       "      <td>blazerscoatsjackets</td>\n",
       "    </tr>\n",
       "    <tr>\n",
       "      <th>01DMBRYVA2Q2ST7MNYR6EEY4TK</th>\n",
       "      <td>onepiece</td>\n",
       "    </tr>\n",
       "    <tr>\n",
       "      <th>01DMBRYVA2S5T9W793F4CY41HE</th>\n",
       "      <td>handbags accessory</td>\n",
       "    </tr>\n",
       "    <tr>\n",
       "      <th>01DMBRYVA2ZFDYRYY5TRQZJTBD</th>\n",
       "      <td>shoe</td>\n",
       "    </tr>\n",
       "    <tr>\n",
       "      <th>...</th>\n",
       "      <td>...</td>\n",
       "    </tr>\n",
       "    <tr>\n",
       "      <th>01E6076GTCE5P3VH76VWJH4MY9</th>\n",
       "      <td>none vacation classic medium closedtoe roundto...</td>\n",
       "    </tr>\n",
       "    <tr>\n",
       "      <th>01E6078G3GRATF2C96VKYYWSGD</th>\n",
       "      <td>whites modern spandex none mesh highover9 fitt...</td>\n",
       "    </tr>\n",
       "    <tr>\n",
       "      <th>01E6079DG58YW9K78D57C6J2Y1</th>\n",
       "      <td>blues modern vacation dress shortsleeve pureco...</td>\n",
       "    </tr>\n",
       "    <tr>\n",
       "      <th>01E6079QFKH4HPZFQ31T6WDRRX</th>\n",
       "      <td>clean blues classic weekend denim slim cottonb...</td>\n",
       "    </tr>\n",
       "    <tr>\n",
       "      <th>01E607BHRQAJDZ76MJFN7RPRK1</th>\n",
       "      <td>modern greens frontzipwithbutton vacation yes ...</td>\n",
       "    </tr>\n",
       "  </tbody>\n",
       "</table>\n",
       "<p>3970 rows × 1 columns</p>\n",
       "</div>"
      ],
      "text/plain": [
       "                                                              attribute_value\n",
       "product_id                                                                   \n",
       "01DMBRYVA2P5H24WK0HTK4R0A1                                      beiges bottom\n",
       "01DMBRYVA2PEPWFTT7RMP5AA1T                                blazerscoatsjackets\n",
       "01DMBRYVA2Q2ST7MNYR6EEY4TK                                           onepiece\n",
       "01DMBRYVA2S5T9W793F4CY41HE                                 handbags accessory\n",
       "01DMBRYVA2ZFDYRYY5TRQZJTBD                                               shoe\n",
       "...                                                                       ...\n",
       "01E6076GTCE5P3VH76VWJH4MY9  none vacation classic medium closedtoe roundto...\n",
       "01E6078G3GRATF2C96VKYYWSGD  whites modern spandex none mesh highover9 fitt...\n",
       "01E6079DG58YW9K78D57C6J2Y1  blues modern vacation dress shortsleeve pureco...\n",
       "01E6079QFKH4HPZFQ31T6WDRRX  clean blues classic weekend denim slim cottonb...\n",
       "01E607BHRQAJDZ76MJFN7RPRK1  modern greens frontzipwithbutton vacation yes ...\n",
       "\n",
       "[3970 rows x 1 columns]"
      ]
     },
     "execution_count": 6,
     "metadata": {},
     "output_type": "execute_result"
    }
   ],
   "source": [
    "# add one more feature--tags\n",
    "tag"
   ]
  },
  {
   "cell_type": "code",
   "execution_count": 7,
   "metadata": {},
   "outputs": [],
   "source": [
    "fulldata = fulldata.merge(tag, left_on = \"product_id\", right_on = \"product_id\", how = \"inner\")"
   ]
  },
  {
   "cell_type": "code",
   "execution_count": 8,
   "metadata": {
    "scrolled": true
   },
   "outputs": [
    {
     "data": {
      "text/html": [
       "<div>\n",
       "<style scoped>\n",
       "    .dataframe tbody tr th:only-of-type {\n",
       "        vertical-align: middle;\n",
       "    }\n",
       "\n",
       "    .dataframe tbody tr th {\n",
       "        vertical-align: top;\n",
       "    }\n",
       "\n",
       "    .dataframe thead th {\n",
       "        text-align: right;\n",
       "    }\n",
       "</style>\n",
       "<table border=\"1\" class=\"dataframe\">\n",
       "  <thead>\n",
       "    <tr style=\"text-align: right;\">\n",
       "      <th></th>\n",
       "      <th>product_id</th>\n",
       "      <th>outfit_id</th>\n",
       "      <th>outfit_item_type</th>\n",
       "      <th>brand</th>\n",
       "      <th>product_full_name</th>\n",
       "      <th>description</th>\n",
       "      <th>details</th>\n",
       "      <th>attribute_value</th>\n",
       "    </tr>\n",
       "  </thead>\n",
       "  <tbody>\n",
       "    <tr>\n",
       "      <th>0</th>\n",
       "      <td>01DVA59VHYAPT4PVX32NXW91G5</td>\n",
       "      <td>01DVA879D7TQ59VPTTGCMJWWSK</td>\n",
       "      <td>shoe</td>\n",
       "      <td>Tibi</td>\n",
       "      <td>Juan Embossed Mules</td>\n",
       "      <td>Tibi's Juan embossed mules are made from shiny...</td>\n",
       "      <td>\\nAs seen on the Pre-Fall ‘19 runway\\nHeel mea...</td>\n",
       "      <td>modern pointedtoe classic none work block slid...</td>\n",
       "    </tr>\n",
       "    <tr>\n",
       "      <th>1</th>\n",
       "      <td>01DT2D39XSRFC204J231X3C7XK</td>\n",
       "      <td>01DVC571VTD70793BKGPVSTF2A</td>\n",
       "      <td>accessory2</td>\n",
       "      <td>Frame</td>\n",
       "      <td>Belted Double-Faced Cotton Coat</td>\n",
       "      <td>There are only a few great coats you need to b...</td>\n",
       "      <td>\\nBelted waist fastening \\nComposition: cotton...</td>\n",
       "      <td>blazerscoatsjackets purecotton coat longsleeve...</td>\n",
       "    </tr>\n",
       "    <tr>\n",
       "      <th>2</th>\n",
       "      <td>01DT2D39XSRFC204J231X3C7XK</td>\n",
       "      <td>01DVC571VV0DYHPSK1GJDPQTQT</td>\n",
       "      <td>accessory2</td>\n",
       "      <td>Frame</td>\n",
       "      <td>Belted Double-Faced Cotton Coat</td>\n",
       "      <td>There are only a few great coats you need to b...</td>\n",
       "      <td>\\nBelted waist fastening \\nComposition: cotton...</td>\n",
       "      <td>blazerscoatsjackets purecotton coat longsleeve...</td>\n",
       "    </tr>\n",
       "    <tr>\n",
       "      <th>3</th>\n",
       "      <td>01DT2D39XSRFC204J231X3C7XK</td>\n",
       "      <td>01DVC571VV2KR8G4TAZWZM0YQH</td>\n",
       "      <td>accessory2</td>\n",
       "      <td>Frame</td>\n",
       "      <td>Belted Double-Faced Cotton Coat</td>\n",
       "      <td>There are only a few great coats you need to b...</td>\n",
       "      <td>\\nBelted waist fastening \\nComposition: cotton...</td>\n",
       "      <td>blazerscoatsjackets purecotton coat longsleeve...</td>\n",
       "    </tr>\n",
       "    <tr>\n",
       "      <th>4</th>\n",
       "      <td>01DT2D39XSRFC204J231X3C7XK</td>\n",
       "      <td>01DVC571VV8YNZS2NC6JCTADP0</td>\n",
       "      <td>accessory2</td>\n",
       "      <td>Frame</td>\n",
       "      <td>Belted Double-Faced Cotton Coat</td>\n",
       "      <td>There are only a few great coats you need to b...</td>\n",
       "      <td>\\nBelted waist fastening \\nComposition: cotton...</td>\n",
       "      <td>blazerscoatsjackets purecotton coat longsleeve...</td>\n",
       "    </tr>\n",
       "  </tbody>\n",
       "</table>\n",
       "</div>"
      ],
      "text/plain": [
       "                   product_id                   outfit_id outfit_item_type  \\\n",
       "0  01DVA59VHYAPT4PVX32NXW91G5  01DVA879D7TQ59VPTTGCMJWWSK             shoe   \n",
       "1  01DT2D39XSRFC204J231X3C7XK  01DVC571VTD70793BKGPVSTF2A       accessory2   \n",
       "2  01DT2D39XSRFC204J231X3C7XK  01DVC571VV0DYHPSK1GJDPQTQT       accessory2   \n",
       "3  01DT2D39XSRFC204J231X3C7XK  01DVC571VV2KR8G4TAZWZM0YQH       accessory2   \n",
       "4  01DT2D39XSRFC204J231X3C7XK  01DVC571VV8YNZS2NC6JCTADP0       accessory2   \n",
       "\n",
       "   brand                product_full_name  \\\n",
       "0   Tibi              Juan Embossed Mules   \n",
       "1  Frame  Belted Double-Faced Cotton Coat   \n",
       "2  Frame  Belted Double-Faced Cotton Coat   \n",
       "3  Frame  Belted Double-Faced Cotton Coat   \n",
       "4  Frame  Belted Double-Faced Cotton Coat   \n",
       "\n",
       "                                         description  \\\n",
       "0  Tibi's Juan embossed mules are made from shiny...   \n",
       "1  There are only a few great coats you need to b...   \n",
       "2  There are only a few great coats you need to b...   \n",
       "3  There are only a few great coats you need to b...   \n",
       "4  There are only a few great coats you need to b...   \n",
       "\n",
       "                                             details  \\\n",
       "0  \\nAs seen on the Pre-Fall ‘19 runway\\nHeel mea...   \n",
       "1  \\nBelted waist fastening \\nComposition: cotton...   \n",
       "2  \\nBelted waist fastening \\nComposition: cotton...   \n",
       "3  \\nBelted waist fastening \\nComposition: cotton...   \n",
       "4  \\nBelted waist fastening \\nComposition: cotton...   \n",
       "\n",
       "                                     attribute_value  \n",
       "0  modern pointedtoe classic none work block slid...  \n",
       "1  blazerscoatsjackets purecotton coat longsleeve...  \n",
       "2  blazerscoatsjackets purecotton coat longsleeve...  \n",
       "3  blazerscoatsjackets purecotton coat longsleeve...  \n",
       "4  blazerscoatsjackets purecotton coat longsleeve...  "
      ]
     },
     "execution_count": 8,
     "metadata": {},
     "output_type": "execute_result"
    }
   ],
   "source": [
    "fulldata.head()"
   ]
  },
  {
   "cell_type": "markdown",
   "metadata": {},
   "source": [
    "## Replace null value and select useful features"
   ]
  },
  {
   "cell_type": "code",
   "execution_count": 9,
   "metadata": {
    "scrolled": true
   },
   "outputs": [
    {
     "data": {
      "text/html": [
       "<div>\n",
       "<style scoped>\n",
       "    .dataframe tbody tr th:only-of-type {\n",
       "        vertical-align: middle;\n",
       "    }\n",
       "\n",
       "    .dataframe tbody tr th {\n",
       "        vertical-align: top;\n",
       "    }\n",
       "\n",
       "    .dataframe thead th {\n",
       "        text-align: right;\n",
       "    }\n",
       "</style>\n",
       "<table border=\"1\" class=\"dataframe\">\n",
       "  <thead>\n",
       "    <tr style=\"text-align: right;\">\n",
       "      <th></th>\n",
       "      <th>product_id</th>\n",
       "      <th>outfit_id</th>\n",
       "      <th>outfit_item_type</th>\n",
       "      <th>brand</th>\n",
       "      <th>product_full_name</th>\n",
       "      <th>description</th>\n",
       "      <th>details</th>\n",
       "      <th>attribute_value</th>\n",
       "      <th>text</th>\n",
       "    </tr>\n",
       "  </thead>\n",
       "  <tbody>\n",
       "    <tr>\n",
       "      <th>0</th>\n",
       "      <td>01DVA59VHYAPT4PVX32NXW91G5</td>\n",
       "      <td>01DVA879D7TQ59VPTTGCMJWWSK</td>\n",
       "      <td>shoe</td>\n",
       "      <td>Tibi</td>\n",
       "      <td>Juan Embossed Mules</td>\n",
       "      <td>Tibi's Juan embossed mules are made from shiny...</td>\n",
       "      <td>As seen on the Pre-Fall ‘19 runwayHeel measure...</td>\n",
       "      <td>modern pointedtoe classic none work block slid...</td>\n",
       "      <td>shoe Tibi Juan Embossed Mules Tibi's Juan embo...</td>\n",
       "    </tr>\n",
       "    <tr>\n",
       "      <th>1</th>\n",
       "      <td>01DT2D39XSRFC204J231X3C7XK</td>\n",
       "      <td>01DVC571VTD70793BKGPVSTF2A</td>\n",
       "      <td>accessory2</td>\n",
       "      <td>Frame</td>\n",
       "      <td>Belted Double-Faced Cotton Coat</td>\n",
       "      <td>There are only a few great coats you need to b...</td>\n",
       "      <td>Belted waist fastening Composition: cotton Dry...</td>\n",
       "      <td>blazerscoatsjackets purecotton coat longsleeve...</td>\n",
       "      <td>accessory2 Frame Belted Double-Faced Cotton Co...</td>\n",
       "    </tr>\n",
       "    <tr>\n",
       "      <th>2</th>\n",
       "      <td>01DT2D39XSRFC204J231X3C7XK</td>\n",
       "      <td>01DVC571VV0DYHPSK1GJDPQTQT</td>\n",
       "      <td>accessory2</td>\n",
       "      <td>Frame</td>\n",
       "      <td>Belted Double-Faced Cotton Coat</td>\n",
       "      <td>There are only a few great coats you need to b...</td>\n",
       "      <td>Belted waist fastening Composition: cotton Dry...</td>\n",
       "      <td>blazerscoatsjackets purecotton coat longsleeve...</td>\n",
       "      <td>accessory2 Frame Belted Double-Faced Cotton Co...</td>\n",
       "    </tr>\n",
       "    <tr>\n",
       "      <th>3</th>\n",
       "      <td>01DT2D39XSRFC204J231X3C7XK</td>\n",
       "      <td>01DVC571VV2KR8G4TAZWZM0YQH</td>\n",
       "      <td>accessory2</td>\n",
       "      <td>Frame</td>\n",
       "      <td>Belted Double-Faced Cotton Coat</td>\n",
       "      <td>There are only a few great coats you need to b...</td>\n",
       "      <td>Belted waist fastening Composition: cotton Dry...</td>\n",
       "      <td>blazerscoatsjackets purecotton coat longsleeve...</td>\n",
       "      <td>accessory2 Frame Belted Double-Faced Cotton Co...</td>\n",
       "    </tr>\n",
       "    <tr>\n",
       "      <th>4</th>\n",
       "      <td>01DT2D39XSRFC204J231X3C7XK</td>\n",
       "      <td>01DVC571VV8YNZS2NC6JCTADP0</td>\n",
       "      <td>accessory2</td>\n",
       "      <td>Frame</td>\n",
       "      <td>Belted Double-Faced Cotton Coat</td>\n",
       "      <td>There are only a few great coats you need to b...</td>\n",
       "      <td>Belted waist fastening Composition: cotton Dry...</td>\n",
       "      <td>blazerscoatsjackets purecotton coat longsleeve...</td>\n",
       "      <td>accessory2 Frame Belted Double-Faced Cotton Co...</td>\n",
       "    </tr>\n",
       "  </tbody>\n",
       "</table>\n",
       "</div>"
      ],
      "text/plain": [
       "                   product_id                   outfit_id outfit_item_type  \\\n",
       "0  01DVA59VHYAPT4PVX32NXW91G5  01DVA879D7TQ59VPTTGCMJWWSK             shoe   \n",
       "1  01DT2D39XSRFC204J231X3C7XK  01DVC571VTD70793BKGPVSTF2A       accessory2   \n",
       "2  01DT2D39XSRFC204J231X3C7XK  01DVC571VV0DYHPSK1GJDPQTQT       accessory2   \n",
       "3  01DT2D39XSRFC204J231X3C7XK  01DVC571VV2KR8G4TAZWZM0YQH       accessory2   \n",
       "4  01DT2D39XSRFC204J231X3C7XK  01DVC571VV8YNZS2NC6JCTADP0       accessory2   \n",
       "\n",
       "   brand                product_full_name  \\\n",
       "0   Tibi              Juan Embossed Mules   \n",
       "1  Frame  Belted Double-Faced Cotton Coat   \n",
       "2  Frame  Belted Double-Faced Cotton Coat   \n",
       "3  Frame  Belted Double-Faced Cotton Coat   \n",
       "4  Frame  Belted Double-Faced Cotton Coat   \n",
       "\n",
       "                                         description  \\\n",
       "0  Tibi's Juan embossed mules are made from shiny...   \n",
       "1  There are only a few great coats you need to b...   \n",
       "2  There are only a few great coats you need to b...   \n",
       "3  There are only a few great coats you need to b...   \n",
       "4  There are only a few great coats you need to b...   \n",
       "\n",
       "                                             details  \\\n",
       "0  As seen on the Pre-Fall ‘19 runwayHeel measure...   \n",
       "1  Belted waist fastening Composition: cotton Dry...   \n",
       "2  Belted waist fastening Composition: cotton Dry...   \n",
       "3  Belted waist fastening Composition: cotton Dry...   \n",
       "4  Belted waist fastening Composition: cotton Dry...   \n",
       "\n",
       "                                     attribute_value  \\\n",
       "0  modern pointedtoe classic none work block slid...   \n",
       "1  blazerscoatsjackets purecotton coat longsleeve...   \n",
       "2  blazerscoatsjackets purecotton coat longsleeve...   \n",
       "3  blazerscoatsjackets purecotton coat longsleeve...   \n",
       "4  blazerscoatsjackets purecotton coat longsleeve...   \n",
       "\n",
       "                                                text  \n",
       "0  shoe Tibi Juan Embossed Mules Tibi's Juan embo...  \n",
       "1  accessory2 Frame Belted Double-Faced Cotton Co...  \n",
       "2  accessory2 Frame Belted Double-Faced Cotton Co...  \n",
       "3  accessory2 Frame Belted Double-Faced Cotton Co...  \n",
       "4  accessory2 Frame Belted Double-Faced Cotton Co...  "
      ]
     },
     "execution_count": 9,
     "metadata": {},
     "output_type": "execute_result"
    }
   ],
   "source": [
    "fulldata = fulldata.replace(np.nan, 'UNKNOWN_TOKEN', regex=True)\n",
    "\n",
    "# Remove \"\\n\" entries in \"details\" column\n",
    "fulldata['details'] = fulldata['details'].str.replace(\"\\n\", \"\")\n",
    "\n",
    "# Concat columns with text\n",
    "fulldata['text'] = fulldata['outfit_item_type']+' '+fulldata['brand']+' '+fulldata['product_full_name']+' '+fulldata['description']+' '+fulldata['details']+' '+fulldata['attribute_value']\n",
    "\n",
    "fulldata.head()"
   ]
  },
  {
   "cell_type": "code",
   "execution_count": 10,
   "metadata": {
    "scrolled": false
   },
   "outputs": [
    {
     "data": {
      "text/plain": [
       "1547"
      ]
     },
     "execution_count": 10,
     "metadata": {},
     "output_type": "execute_result"
    }
   ],
   "source": [
    "len(fulldata)"
   ]
  },
  {
   "cell_type": "markdown",
   "metadata": {},
   "source": [
    "## Use Spacy to remove stopwords and implement lemmatization to get corpus be ready to be trained"
   ]
  },
  {
   "cell_type": "code",
   "execution_count": 11,
   "metadata": {},
   "outputs": [],
   "source": [
    "#use large size\n",
    "nlp = spacy.load('en_core_web_lg') "
   ]
  },
  {
   "cell_type": "code",
   "execution_count": 12,
   "metadata": {},
   "outputs": [],
   "source": [
    "# the stopwords_removed_docs is used for creating document vectors\n",
    "docs=fulldata['text']\n",
    "stopwords_removed_docs = list(map(lambda doc: [token.text for token in nlp(doc) if not \n",
    "                                                        token.is_stop | token.is_punct | token.is_space], docs))\n",
    " "
   ]
  },
  {
   "cell_type": "code",
   "execution_count": 13,
   "metadata": {},
   "outputs": [
    {
     "data": {
      "text/plain": [
       "1547"
      ]
     },
     "execution_count": 13,
     "metadata": {},
     "output_type": "execute_result"
    }
   ],
   "source": [
    "len(stopwords_removed_docs )"
   ]
  },
  {
   "cell_type": "code",
   "execution_count": 14,
   "metadata": {},
   "outputs": [],
   "source": [
    "# clean_docs is used for training Doc2vec model\n",
    "clean_docs = list(map(lambda doc: \" \".join([token.text for token in nlp(doc) if not \n",
    "                                                        token.is_stop | token.is_punct | token.is_space]), docs))"
   ]
  },
  {
   "cell_type": "markdown",
   "metadata": {},
   "source": [
    "# Used Doc2Vec to creat recommendation system"
   ]
  },
  {
   "cell_type": "markdown",
   "metadata": {},
   "source": [
    "## Train Doc2Vec model"
   ]
  },
  {
   "cell_type": "code",
   "execution_count": 15,
   "metadata": {},
   "outputs": [],
   "source": [
    "from gensim.test.utils import common_texts\n",
    "from gensim.models.doc2vec import Doc2Vec, TaggedDocument\n",
    "from sklearn.metrics.pairwise import cosine_similarity\n",
    "import string\n",
    "from fuzzywuzzy import fuzz \n",
    "from fuzzywuzzy import process\n",
    "documents = [TaggedDocument(doc, [i]) for i, doc in enumerate(clean_docs)]\n",
    "model = Doc2Vec(documents, vector_size=50, window=4, min_count=2, workers=4)"
   ]
  },
  {
   "cell_type": "markdown",
   "metadata": {},
   "source": [
    "## Get document vector for each document"
   ]
  },
  {
   "cell_type": "code",
   "execution_count": 16,
   "metadata": {},
   "outputs": [],
   "source": [
    "docs_vector=[]\n",
    "for i in stopwords_removed_docs:\n",
    "    docs_vector.append(model.infer_vector(i))"
   ]
  },
  {
   "cell_type": "markdown",
   "metadata": {},
   "source": [
    "## Find the most similar outfit for the query"
   ]
  },
  {
   "cell_type": "code",
   "execution_count": 17,
   "metadata": {},
   "outputs": [],
   "source": [
    "def outfit_recommendation(id):\n",
    "    \n",
    "    #Use fuzzy-matching to find product_id that most similar to the input id\n",
    "    foundID = process.extractOne(id,outfit['product_id'],scorer=fuzz.token_set_ratio)[0]\n",
    "    \n",
    "    #Get all outfit_id for which involve matched product\n",
    "    outfits = outfit[outfit.product_id==foundID].outfit_id\n",
    "    \n",
    "    #Select first outfit\n",
    "    products = outfit[outfit.outfit_id==outfits.values[0]]\n",
    "    \n",
    "    outfitDict={}\n",
    "    #Formatting output of function\n",
    "    for i in products.index:\n",
    "        key = products.loc[i,\"outfit_item_type\"]\n",
    "        outfitDict[key]=products.loc[i,\"product_full_name\"]+\"(\"+products.loc[i,\"product_id\"]+\")\"\n",
    "    return outfitDict"
   ]
  },
  {
   "cell_type": "code",
   "execution_count": 18,
   "metadata": {},
   "outputs": [],
   "source": [
    "def recommendations(query,docs_vector,nlp,fulldata):\n",
    "    query_token=[token.text for token in nlp(query) if not token.is_stop | token.is_punct | token.is_space]\n",
    "    query_vector=model.infer_vector(query_token).reshape(1, -1)\n",
    "    cos = 0\n",
    "    i=-1\n",
    "    for doc_vector in docs_vector:\n",
    "        i+=1\n",
    "        similar=cosine_similarity(query_vector, doc_vector.reshape(1, -1))\n",
    "        if similar > cos:\n",
    "            cos = similar\n",
    "            productid=fulldata.loc[i,\"product_id\"]\n",
    "    return outfit_recommendation(productid)"
   ]
  },
  {
   "cell_type": "code",
   "execution_count": 19,
   "metadata": {},
   "outputs": [
    {
     "data": {
      "text/plain": [
       "{'accessory1': 'Oversized Satin Cloqué Blazer(01DV4HSATZ3X8G7M9CWKFM1F9H)',\n",
       " 'top': 'Leopold Tinsel Baby Doll Blouse(01DVS1BSSVTBEPS1NJP64JXRD8)',\n",
       " 'bottom': 'Toni mid-rise straight-leg jeans(01DVS1DM6H1SC40YFGP0NWQ5SZ)',\n",
       " 'shoe': 'Organza Magani Mules(01DVS1F4V223Y662VKYJQSWK1C)',\n",
       " 'accessory2': 'Mini Leather Top Handle Bag(01DVS1SHB0MXNERKX17C3P5YXS)'}"
      ]
     },
     "execution_count": 19,
     "metadata": {},
     "output_type": "execute_result"
    }
   ],
   "source": [
    "test1=\"slim fitting, straight leg pant with a center back zipper and slightly cropped leg Reformation\"\n",
    "recommendations(test1,docs_vector,nlp,fulldata)"
   ]
  },
  {
   "cell_type": "code",
   "execution_count": 20,
   "metadata": {},
   "outputs": [
    {
     "data": {
      "text/plain": [
       "{'onepiece': 'Mia Matelassé Maxi Dress(01DS448JWKPGXK5EGG34W6KCX0)',\n",
       " 'accessory1': 'Two Way Tulip Large Leather Tote(01DT2CZJ0PNR61AEX3XYNXMS37)',\n",
       " 'accessory2': 'Leisure hooded mohair-blend cardigan(01DT512CTJKECJG1YB97X7MWNG)',\n",
       " 'shoe': 'Bou Raffia Heeled Mule(01DTATGYW72E9WEZHCKJBDFTCT)'}"
      ]
     },
     "execution_count": 20,
     "metadata": {},
     "output_type": "execute_result"
    }
   ],
   "source": [
    "test2 = \"Sexy silky, a-line mini skirt zipper Benson skirt\"\n",
    "recommendations(test2,docs_vector,nlp,fulldata)"
   ]
  }
 ],
 "metadata": {
  "kernelspec": {
   "display_name": "Python 3",
   "language": "python",
   "name": "python3"
  },
  "language_info": {
   "codemirror_mode": {
    "name": "ipython",
    "version": 3
   },
   "file_extension": ".py",
   "mimetype": "text/x-python",
   "name": "python",
   "nbconvert_exporter": "python",
   "pygments_lexer": "ipython3",
   "version": "3.6.10"
  },
  "toc": {
   "base_numbering": 1,
   "nav_menu": {},
   "number_sections": true,
   "sideBar": true,
   "skip_h1_title": false,
   "title_cell": "Table of Contents",
   "title_sidebar": "Contents",
   "toc_cell": false,
   "toc_position": {},
   "toc_section_display": true,
   "toc_window_display": false
  }
 },
 "nbformat": 4,
 "nbformat_minor": 4
}
