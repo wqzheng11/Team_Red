{
 "cells": [
  {
   "cell_type": "markdown",
   "metadata": {},
   "source": [
    "**Team**:\n",
    "    @Anni Cai, @Leon Man (Ka Wa Man) , @Qiongqiong Lin, @Wanqiu Zheng "
   ]
  },
  {
   "cell_type": "markdown",
   "metadata": {
    "id": "yNu9etkT4hMh"
   },
   "source": [
    "# Abstract\n",
    "\n",
    "**1.0. X variables we created:**\n",
    "********************\n",
    "*   **is_womens_clothing**: bool, 1 - Yes, 0 - NO\n",
    "*   **is_men_clothing**: bool, 1 - Yes, 0 - NO\n",
    "*   **origins**: enum, indicate which country a product was produced\n",
    "*   **Product Categories**: enum, indicate to which product categories (e.g., tops, bottoms and etc.) a product belongs\n",
    "*   **Colors**: enum, number of colors that a product has \n",
    "*   **Materials**: enum, the type of materials by which a product was produced\n",
    "*   **IS_SLIM_FIT**: bool, 1 - Yes, 0 - NO\n",
    "*   **IS_RELAX_FIT**: bool, 1 - Yes, 0 - NO\n",
    "*   **IS_DRY_CLEAN**: bool, 1 - Yes, 0 - NO\n",
    "*   **model_size**: enum, the size that a brand model was wearing in `description`\n",
    "*   **product active**: bool, 1 - Yes, 0 - NO\n",
    "*   **quarter** enum = [1,2,3,4], the number of quarter indicates in which quarter of a year the product was created\n",
    "*   **product_creation_speed** float, the number indicates the rank of velocity of product creation, the lower the rank, the faster a brand will launch its clothing prducts or more frequent this brand's product was collected by Behold\n",
    "*   **product_description embedding**: embedding size = 200\n",
    "*   **brand_name doc2vec embedding**: embedding size = 6 \n",
    "*   **Flesh-Kincaid Grade of `brand_name` and `product_descr`**: float, indicates the readability of `product descr` and `brand_name`. The higher the value, the more complex the document to read\n",
    "*   **Gunning-Fog Grade of `brand_name` and `product_descr`**: float, indicates the readability of `product descr` and `brand_name`. The higher the value, the more complex the document to read\n",
    "\n",
    "**2.0. Data Cleaning:**\n",
    "********************\n",
    "- For categorical variables (variable type: enum), one-hot encoding was applied to create dummy variables\n",
    "- new new line character `\\n` will be removed from the entire dataset \n",
    "- Stopwords removal and lemmatization will be conducted on `brand_name` and `product_descr` for doc2vec. However, for calculating `Flesh-Kincaid` and `Gunning-Fog`, these operations are needed. The reason why we conducted text cleaning before doc2vec embedding is the explanatory power of models were improved after removing stopwords and punctuations from them.\n",
    "\n",
    "**3.0. Y variables:**\n",
    "********************\n",
    "*   We group the most frequent 50 brands and classify the remaining others as `Others`\n",
    "*   Therefore, our benchmark is 15%, and optimal threshold is 50%\n",
    "\n",
    "**4.0. Models:**\n",
    "********************\n",
    "The reason why we prefer tree-based models are 1) Tree-based models are robust to variables with different scale. People do not have to normalize data to make it work in a high dimension space. 2) Tree-base models can tell us which predictors have the highest informmation gain. This will be critical for fine-tuning our models. 3) tree-based is also robust to high dimension datasets. Even if we did not perform dimensionality reduction, it can still achieve expected performance. For those variables with low predictive power, tree-based models will simply put them on the sideline and do not use them to make splits. 4) tree-base models are fast to train than most other models in our experimentation.\n",
    "\n",
    "*   **Random Forest Classifier**: oob_score is surprisingly high. Maybe cross validation can reveal its true performance\n",
    "*   **Hist Gradient Boosting Classifer**: the best model based on the testing set, but it's slow to train\n",
    "*   **Ada Boost Classifier**: the model didn't perform well on the testing set, would not take into further consideration.\n",
    "*   **KNeighbors Classifier**: did a fair job on the testing set, could be an option to go for\n",
    "\n",
    "**5.0. Our final pick of the model**\n",
    "********************\n",
    "Hist Gradient Boosting Classifer: it delivers the best performance throughout cross validation process, also it is much faster to train than RNN model. The average accuracy score for Hist Gradient Boosting Classifer is 70.4%. Please note the cross validation of `Hist Gradient Boosting Classifer` will be very slow.\n",
    "\n",
    "\n",
    "\n",
    "\n",
    "\n",
    "\n",
    "\n",
    "\n",
    "\n",
    "\n",
    "\n",
    "\n",
    "\n",
    "\n",
    "\n"
   ]
  },
  {
   "cell_type": "code",
   "execution_count": 1,
   "metadata": {
    "id": "dK0fBZ2f2ggr"
   },
   "outputs": [],
   "source": [
    "import pandas as pd\n",
    "import numpy as np\n",
    "import re\n",
    "import nltk\n",
    "from nltk.corpus import stopwords\n",
    "from nltk.stem import WordNetLemmatizer\n",
    "from nltk import word_tokenize\n",
    "import warnings\n",
    "warnings.filterwarnings(\"ignore\")\n",
    "pd.set_option('display.max_colwidth', None)"
   ]
  },
  {
   "cell_type": "code",
   "execution_count": 2,
   "metadata": {
    "id": "PITjrTjYTCZ1"
   },
   "outputs": [],
   "source": [
    "# we only need products data \n",
    "products = pd.read_excel('Behold+product+data+04262021.xlsx')"
   ]
  },
  {
   "cell_type": "code",
   "execution_count": 3,
   "metadata": {
    "id": "2Z8f5Qk92gg5"
   },
   "outputs": [],
   "source": [
    "## Leon Set\n",
    "# from google.colab import drive\n",
    "# drive.mount('/content/drive')\n",
    "\n",
    "# brands = pd.read_csv('/content/drive/MyDrive/DSO 560/Project/behold_brands USC.csv')\n",
    "# products = pd.read_excel(\"/content/drive/MyDrive/DSO 560/Project/Behold+product+data+04262021.xlsx\")\n",
    "# outfits = pd.read_csv(\"/content/drive/MyDrive/DSO 560/Project/outfit_combinations USC.csv\")\n",
    "# tags = pd.read_csv('/content/drive/MyDrive/DSO 560/Project/usc_additional_tags USC.csv')"
   ]
  },
  {
   "cell_type": "code",
   "execution_count": 4,
   "metadata": {
    "id": "5tX1PAIr_sM5"
   },
   "outputs": [],
   "source": [
    "# remove brand_canonical_url as requested since it contains brand information\n",
    "products = products.filter(['product_id', 'brand', 'brand_category', 'name', 'details',\n",
    "       'created_at', 'description', 'brand_description',\n",
    "       'brand_name', 'product_active'])"
   ]
  },
  {
   "cell_type": "markdown",
   "metadata": {
    "id": "jB5zed0G2gg6"
   },
   "source": [
    "# EDA"
   ]
  },
  {
   "cell_type": "code",
   "execution_count": 5,
   "metadata": {
    "colab": {
     "base_uri": "https://localhost:8080/",
     "height": 397
    },
    "id": "DeRFDSSs2gg7",
    "outputId": "07e28f20-af9a-467c-95ee-119b9ec4da99"
   },
   "outputs": [
    {
     "data": {
      "text/html": [
       "<div>\n",
       "<style scoped>\n",
       "    .dataframe tbody tr th:only-of-type {\n",
       "        vertical-align: middle;\n",
       "    }\n",
       "\n",
       "    .dataframe tbody tr th {\n",
       "        vertical-align: top;\n",
       "    }\n",
       "\n",
       "    .dataframe thead th {\n",
       "        text-align: right;\n",
       "    }\n",
       "</style>\n",
       "<table border=\"1\" class=\"dataframe\">\n",
       "  <thead>\n",
       "    <tr style=\"text-align: right;\">\n",
       "      <th></th>\n",
       "      <th>brand_id</th>\n",
       "      <th>brand</th>\n",
       "      <th>brand_value</th>\n",
       "      <th>bio</th>\n",
       "      <th>quote</th>\n",
       "      <th>quote_attribute</th>\n",
       "      <th>intro</th>\n",
       "      <th>lifestyle_copy</th>\n",
       "      <th>short_bio</th>\n",
       "      <th>listing_bio</th>\n",
       "    </tr>\n",
       "  </thead>\n",
       "  <tbody>\n",
       "    <tr>\n",
       "      <th>0</th>\n",
       "      <td>01ESKR0CH2KYC7KBNTN0S38EQA</td>\n",
       "      <td>Mari Giudicelli</td>\n",
       "      <td>Handmade / Artisan Crafted</td>\n",
       "      <td>NaN</td>\n",
       "      <td>NaN</td>\n",
       "      <td>NaN</td>\n",
       "      <td>NaN</td>\n",
       "      <td>NaN</td>\n",
       "      <td>NaN</td>\n",
       "      <td>Behold Mari Giudicelli! This Brazilian shoe designer is a maven of style, and her designs are packed with easy-going elegance. You'll want to pair these covet worthy shoes with every outfit.</td>\n",
       "    </tr>\n",
       "    <tr>\n",
       "      <th>1</th>\n",
       "      <td>01ESKR0CH2KYC7KBNTN0S38EQA</td>\n",
       "      <td>Mari Giudicelli</td>\n",
       "      <td>Sustainable</td>\n",
       "      <td>NaN</td>\n",
       "      <td>NaN</td>\n",
       "      <td>NaN</td>\n",
       "      <td>NaN</td>\n",
       "      <td>NaN</td>\n",
       "      <td>NaN</td>\n",
       "      <td>Behold Mari Giudicelli! This Brazilian shoe designer is a maven of style, and her designs are packed with easy-going elegance. You'll want to pair these covet worthy shoes with every outfit.</td>\n",
       "    </tr>\n",
       "    <tr>\n",
       "      <th>2</th>\n",
       "      <td>01ESKR0CH2KYC7KBNTN0S38EQA</td>\n",
       "      <td>Mari Giudicelli</td>\n",
       "      <td>Women Owned</td>\n",
       "      <td>NaN</td>\n",
       "      <td>NaN</td>\n",
       "      <td>NaN</td>\n",
       "      <td>NaN</td>\n",
       "      <td>NaN</td>\n",
       "      <td>NaN</td>\n",
       "      <td>Behold Mari Giudicelli! This Brazilian shoe designer is a maven of style, and her designs are packed with easy-going elegance. You'll want to pair these covet worthy shoes with every outfit.</td>\n",
       "    </tr>\n",
       "  </tbody>\n",
       "</table>\n",
       "</div>"
      ],
      "text/plain": [
       "                     brand_id            brand                 brand_value  \\\n",
       "0  01ESKR0CH2KYC7KBNTN0S38EQA  Mari Giudicelli  Handmade / Artisan Crafted   \n",
       "1  01ESKR0CH2KYC7KBNTN0S38EQA  Mari Giudicelli                 Sustainable   \n",
       "2  01ESKR0CH2KYC7KBNTN0S38EQA  Mari Giudicelli                 Women Owned   \n",
       "\n",
       "   bio quote quote_attribute intro lifestyle_copy short_bio  \\\n",
       "0  NaN   NaN             NaN   NaN            NaN       NaN   \n",
       "1  NaN   NaN             NaN   NaN            NaN       NaN   \n",
       "2  NaN   NaN             NaN   NaN            NaN       NaN   \n",
       "\n",
       "                                                                                                                                                                                      listing_bio  \n",
       "0  Behold Mari Giudicelli! This Brazilian shoe designer is a maven of style, and her designs are packed with easy-going elegance. You'll want to pair these covet worthy shoes with every outfit.  \n",
       "1  Behold Mari Giudicelli! This Brazilian shoe designer is a maven of style, and her designs are packed with easy-going elegance. You'll want to pair these covet worthy shoes with every outfit.  \n",
       "2  Behold Mari Giudicelli! This Brazilian shoe designer is a maven of style, and her designs are packed with easy-going elegance. You'll want to pair these covet worthy shoes with every outfit.  "
      ]
     },
     "execution_count": 5,
     "metadata": {},
     "output_type": "execute_result"
    }
   ],
   "source": [
    "brands.head(3)"
   ]
  },
  {
   "cell_type": "code",
   "execution_count": 6,
   "metadata": {
    "colab": {
     "base_uri": "https://localhost:8080/"
    },
    "id": "lx7VS_gG2gg9",
    "outputId": "eadaeb93-d219-4aa7-cb67-ba4294e9410e"
   },
   "outputs": [
    {
     "name": "stdout",
     "output_type": "stream",
     "text": [
      "<class 'pandas.core.frame.DataFrame'>\n",
      "RangeIndex: 162 entries, 0 to 161\n",
      "Data columns (total 10 columns):\n",
      " #   Column           Non-Null Count  Dtype \n",
      "---  ------           --------------  ----- \n",
      " 0   brand_id         162 non-null    object\n",
      " 1   brand            162 non-null    object\n",
      " 2   brand_value      154 non-null    object\n",
      " 3   bio              157 non-null    object\n",
      " 4   quote            157 non-null    object\n",
      " 5   quote_attribute  154 non-null    object\n",
      " 6   intro            154 non-null    object\n",
      " 7   lifestyle_copy   156 non-null    object\n",
      " 8   short_bio        157 non-null    object\n",
      " 9   listing_bio      157 non-null    object\n",
      "dtypes: object(10)\n",
      "memory usage: 12.8+ KB\n"
     ]
    }
   ],
   "source": [
    "brands.info()"
   ]
  },
  {
   "cell_type": "code",
   "execution_count": 7,
   "metadata": {
    "colab": {
     "base_uri": "https://localhost:8080/",
     "height": 1000
    },
    "id": "jKnJq30u2gg9",
    "outputId": "f9790125-4665-459b-bbe6-dd3f58e25db3"
   },
   "outputs": [
    {
     "data": {
      "text/html": [
       "<div>\n",
       "<style scoped>\n",
       "    .dataframe tbody tr th:only-of-type {\n",
       "        vertical-align: middle;\n",
       "    }\n",
       "\n",
       "    .dataframe tbody tr th {\n",
       "        vertical-align: top;\n",
       "    }\n",
       "\n",
       "    .dataframe thead th {\n",
       "        text-align: right;\n",
       "    }\n",
       "</style>\n",
       "<table border=\"1\" class=\"dataframe\">\n",
       "  <thead>\n",
       "    <tr style=\"text-align: right;\">\n",
       "      <th></th>\n",
       "      <th>product_id</th>\n",
       "      <th>brand</th>\n",
       "      <th>brand_category</th>\n",
       "      <th>name</th>\n",
       "      <th>details</th>\n",
       "      <th>created_at</th>\n",
       "      <th>description</th>\n",
       "      <th>brand_description</th>\n",
       "      <th>brand_name</th>\n",
       "      <th>product_active</th>\n",
       "    </tr>\n",
       "  </thead>\n",
       "  <tbody>\n",
       "    <tr>\n",
       "      <th>0</th>\n",
       "      <td>01EX0PN4J9WRNZH5F93YEX6QAF</td>\n",
       "      <td>Two</td>\n",
       "      <td>Unknown</td>\n",
       "      <td>Khadi Stripe Shirt-our signature shirt</td>\n",
       "      <td>NaN</td>\n",
       "      <td>2021-01-27 01:17:19.305 UTC</td>\n",
       "      <td>Our signature khadi shirt\\navailable in black and white\\nEasy to wear from beach to city. We promise this top will be your go-to warm\\nweather item. Perfect under a blazer. Hand loomed woven stripe in khadi cotton.\\n Slightly sheer and gets softer with every wash. Ships First week of April\\nCOLOR: WHITE OR BLACK\\n—  Length 27\"  and  Width  26.5\" —  One size fits most —  Grid khadi cotton</td>\n",
       "      <td>Our signature khadi shirt\\n\\navailable in black and white\\n\\nEasy to wear from beach to city. We promise this top will be your go-to warm\\nweather item. Perfect under a blazer. Hand loomed woven stripe in khadi cotton.\\n Slightly sheer and gets softer with every wash. Ships First week of April\\n\\n\\nCOLOR: WHITE OR BLACK\\n\\n—  Length 27\"  and  Width  26.5\" —  One size fits most —  Grid khadi cotton</td>\n",
       "      <td>Khadi Stripe Shirt-our signature shirt</td>\n",
       "      <td>True</td>\n",
       "    </tr>\n",
       "    <tr>\n",
       "      <th>1</th>\n",
       "      <td>01F0C4SKZV6YXS3265JMC39NXW</td>\n",
       "      <td>Collina Strada</td>\n",
       "      <td>Unknown</td>\n",
       "      <td>RUFFLE MARKET DRESS LOOPY PINK SISTINE TOMATO</td>\n",
       "      <td>NaN</td>\n",
       "      <td>2021-03-09 18:43:10.457 UTC</td>\n",
       "      <td>Mid-length dress with ruffles and adjustable straps. Bias cut. Side seam\\ninvisible zipper\\nMade in New York\\nModel wears size small\\n100% Rose sylk\\nRose sylk is an organic cellulose fiber made from the natural waste of rose\\nbushes and stems.</td>\n",
       "      <td>Mid-length dress with ruffles and adjustable straps. Bias cut. Side seam\\ninvisible zipper. \\n\\nMade in New York\\n\\nModel wears size small\\n\\n \\n\\n100% Rose sylk\\n\\nRose sylk is an organic cellulose fiber made from the natural waste of rose\\nbushes and stems.</td>\n",
       "      <td>RUFFLE MARKET DRESS LOOPY PINK SISTINE TOMATO</td>\n",
       "      <td>True</td>\n",
       "    </tr>\n",
       "    <tr>\n",
       "      <th>2</th>\n",
       "      <td>01EY4Y1BW8VZW51BWG5VZY82XW</td>\n",
       "      <td>Cariuma</td>\n",
       "      <td>Unknown</td>\n",
       "      <td>IBI Slip On Raw Red Knit Sneaker Women</td>\n",
       "      <td>NaN</td>\n",
       "      <td>2021-02-10 02:58:59.591 UTC</td>\n",
       "      <td>IBI Slip On Raw Red Knit Sneaker Women</td>\n",
       "      <td>IBI Slip On Raw Red Knit Sneaker Women</td>\n",
       "      <td>IBI Slip On Raw Red Knit Sneaker Women</td>\n",
       "      <td>False</td>\n",
       "    </tr>\n",
       "  </tbody>\n",
       "</table>\n",
       "</div>"
      ],
      "text/plain": [
       "                   product_id           brand brand_category  \\\n",
       "0  01EX0PN4J9WRNZH5F93YEX6QAF             Two        Unknown   \n",
       "1  01F0C4SKZV6YXS3265JMC39NXW  Collina Strada        Unknown   \n",
       "2  01EY4Y1BW8VZW51BWG5VZY82XW         Cariuma        Unknown   \n",
       "\n",
       "                                            name details  \\\n",
       "0         Khadi Stripe Shirt-our signature shirt     NaN   \n",
       "1  RUFFLE MARKET DRESS LOOPY PINK SISTINE TOMATO     NaN   \n",
       "2         IBI Slip On Raw Red Knit Sneaker Women     NaN   \n",
       "\n",
       "                    created_at  \\\n",
       "0  2021-01-27 01:17:19.305 UTC   \n",
       "1  2021-03-09 18:43:10.457 UTC   \n",
       "2  2021-02-10 02:58:59.591 UTC   \n",
       "\n",
       "                                                                                                                                                                                                                                                                                                                                                                                              description  \\\n",
       "0  Our signature khadi shirt\\navailable in black and white\\nEasy to wear from beach to city. We promise this top will be your go-to warm\\nweather item. Perfect under a blazer. Hand loomed woven stripe in khadi cotton.\\n Slightly sheer and gets softer with every wash. Ships First week of April\\nCOLOR: WHITE OR BLACK\\n—  Length 27\"  and  Width  26.5\" —  One size fits most —  Grid khadi cotton   \n",
       "1                                                                                                                                                    Mid-length dress with ruffles and adjustable straps. Bias cut. Side seam\\ninvisible zipper\\nMade in New York\\nModel wears size small\\n100% Rose sylk\\nRose sylk is an organic cellulose fiber made from the natural waste of rose\\nbushes and stems.   \n",
       "2                                                                                                                                                                                                                                                                                                                                                                  IBI Slip On Raw Red Knit Sneaker Women   \n",
       "\n",
       "                                                                                                                                                                                                                                                                                                                                                                                                  brand_description  \\\n",
       "0  Our signature khadi shirt\\n\\navailable in black and white\\n\\nEasy to wear from beach to city. We promise this top will be your go-to warm\\nweather item. Perfect under a blazer. Hand loomed woven stripe in khadi cotton.\\n Slightly sheer and gets softer with every wash. Ships First week of April\\n\\n\\nCOLOR: WHITE OR BLACK\\n\\n—  Length 27\"  and  Width  26.5\" —  One size fits most —  Grid khadi cotton   \n",
       "1                                                                                                                                               Mid-length dress with ruffles and adjustable straps. Bias cut. Side seam\\ninvisible zipper. \\n\\nMade in New York\\n\\nModel wears size small\\n\\n \\n\\n100% Rose sylk\\n\\nRose sylk is an organic cellulose fiber made from the natural waste of rose\\nbushes and stems.   \n",
       "2                                                                                                                                                                                                                                                                                                                                                                            IBI Slip On Raw Red Knit Sneaker Women   \n",
       "\n",
       "                                      brand_name  product_active  \n",
       "0         Khadi Stripe Shirt-our signature shirt            True  \n",
       "1  RUFFLE MARKET DRESS LOOPY PINK SISTINE TOMATO            True  \n",
       "2         IBI Slip On Raw Red Knit Sneaker Women           False  "
      ]
     },
     "execution_count": 7,
     "metadata": {},
     "output_type": "execute_result"
    }
   ],
   "source": [
    "products.head(3)"
   ]
  },
  {
   "cell_type": "code",
   "execution_count": 8,
   "metadata": {
    "colab": {
     "base_uri": "https://localhost:8080/"
    },
    "id": "_BmbI_cB2gg-",
    "outputId": "eaee088e-c751-4b33-c497-0a0376725414"
   },
   "outputs": [
    {
     "name": "stdout",
     "output_type": "stream",
     "text": [
      "<class 'pandas.core.frame.DataFrame'>\n",
      "RangeIndex: 61355 entries, 0 to 61354\n",
      "Data columns (total 10 columns):\n",
      " #   Column             Non-Null Count  Dtype \n",
      "---  ------             --------------  ----- \n",
      " 0   product_id         61355 non-null  object\n",
      " 1   brand              61355 non-null  object\n",
      " 2   brand_category     60896 non-null  object\n",
      " 3   name               61354 non-null  object\n",
      " 4   details            9200 non-null   object\n",
      " 5   created_at         61355 non-null  object\n",
      " 6   description        51238 non-null  object\n",
      " 7   brand_description  51234 non-null  object\n",
      " 8   brand_name         61354 non-null  object\n",
      " 9   product_active     61355 non-null  bool  \n",
      "dtypes: bool(1), object(9)\n",
      "memory usage: 4.3+ MB\n"
     ]
    }
   ],
   "source": [
    "products.info()"
   ]
  },
  {
   "cell_type": "code",
   "execution_count": 9,
   "metadata": {
    "colab": {
     "base_uri": "https://localhost:8080/",
     "height": 142
    },
    "id": "cMWQ-oIy2gg-",
    "outputId": "6a8ed41d-b406-40c8-a0e8-55466e8cadc8"
   },
   "outputs": [
    {
     "data": {
      "text/html": [
       "<div>\n",
       "<style scoped>\n",
       "    .dataframe tbody tr th:only-of-type {\n",
       "        vertical-align: middle;\n",
       "    }\n",
       "\n",
       "    .dataframe tbody tr th {\n",
       "        vertical-align: top;\n",
       "    }\n",
       "\n",
       "    .dataframe thead th {\n",
       "        text-align: right;\n",
       "    }\n",
       "</style>\n",
       "<table border=\"1\" class=\"dataframe\">\n",
       "  <thead>\n",
       "    <tr style=\"text-align: right;\">\n",
       "      <th></th>\n",
       "      <th>outfit_id</th>\n",
       "      <th>product_id</th>\n",
       "      <th>outfit_item_type</th>\n",
       "      <th>brand</th>\n",
       "      <th>product_full_name</th>\n",
       "    </tr>\n",
       "  </thead>\n",
       "  <tbody>\n",
       "    <tr>\n",
       "      <th>0</th>\n",
       "      <td>01DDBHC62ES5K80P0KYJ56AM2T</td>\n",
       "      <td>01DMBRYVA2P5H24WK0HTK4R0A1</td>\n",
       "      <td>bottom</td>\n",
       "      <td>Eileen Fisher</td>\n",
       "      <td>Slim Knit Skirt</td>\n",
       "    </tr>\n",
       "    <tr>\n",
       "      <th>1</th>\n",
       "      <td>01DDBHC62ES5K80P0KYJ56AM2T</td>\n",
       "      <td>01DMBRYVA2PEPWFTT7RMP5AA1T</td>\n",
       "      <td>top</td>\n",
       "      <td>Eileen Fisher</td>\n",
       "      <td>Rib Mock Neck Tank</td>\n",
       "    </tr>\n",
       "    <tr>\n",
       "      <th>2</th>\n",
       "      <td>01DDBHC62ES5K80P0KYJ56AM2T</td>\n",
       "      <td>01DMBRYVA2S5T9W793F4CY41HE</td>\n",
       "      <td>accessory1</td>\n",
       "      <td>kate spade new york</td>\n",
       "      <td>medium margaux leather satchel</td>\n",
       "    </tr>\n",
       "  </tbody>\n",
       "</table>\n",
       "</div>"
      ],
      "text/plain": [
       "                    outfit_id                  product_id outfit_item_type  \\\n",
       "0  01DDBHC62ES5K80P0KYJ56AM2T  01DMBRYVA2P5H24WK0HTK4R0A1           bottom   \n",
       "1  01DDBHC62ES5K80P0KYJ56AM2T  01DMBRYVA2PEPWFTT7RMP5AA1T              top   \n",
       "2  01DDBHC62ES5K80P0KYJ56AM2T  01DMBRYVA2S5T9W793F4CY41HE       accessory1   \n",
       "\n",
       "                 brand               product_full_name  \n",
       "0        Eileen Fisher                 Slim Knit Skirt  \n",
       "1        Eileen Fisher              Rib Mock Neck Tank  \n",
       "2  kate spade new york  medium margaux leather satchel  "
      ]
     },
     "execution_count": 9,
     "metadata": {},
     "output_type": "execute_result"
    }
   ],
   "source": [
    "outfits.head(3)"
   ]
  },
  {
   "cell_type": "code",
   "execution_count": 10,
   "metadata": {
    "colab": {
     "base_uri": "https://localhost:8080/"
    },
    "id": "OLhgP4ve2gg_",
    "outputId": "3d765775-41cd-4e64-b2b2-495e134bfd94"
   },
   "outputs": [
    {
     "name": "stdout",
     "output_type": "stream",
     "text": [
      "<class 'pandas.core.frame.DataFrame'>\n",
      "RangeIndex: 5291 entries, 0 to 5290\n",
      "Data columns (total 5 columns):\n",
      " #   Column             Non-Null Count  Dtype \n",
      "---  ------             --------------  ----- \n",
      " 0   outfit_id          5291 non-null   object\n",
      " 1   product_id         5291 non-null   object\n",
      " 2   outfit_item_type   5291 non-null   object\n",
      " 3   brand              5291 non-null   object\n",
      " 4   product_full_name  5291 non-null   object\n",
      "dtypes: object(5)\n",
      "memory usage: 206.8+ KB\n"
     ]
    }
   ],
   "source": [
    "outfits.info()"
   ]
  },
  {
   "cell_type": "code",
   "execution_count": 11,
   "metadata": {
    "colab": {
     "base_uri": "https://localhost:8080/",
     "height": 142
    },
    "id": "8kNWtlLG2gg_",
    "outputId": "c810d78c-7a31-482c-93b3-efb320525a6b"
   },
   "outputs": [
    {
     "data": {
      "text/html": [
       "<div>\n",
       "<style scoped>\n",
       "    .dataframe tbody tr th:only-of-type {\n",
       "        vertical-align: middle;\n",
       "    }\n",
       "\n",
       "    .dataframe tbody tr th {\n",
       "        vertical-align: top;\n",
       "    }\n",
       "\n",
       "    .dataframe thead th {\n",
       "        text-align: right;\n",
       "    }\n",
       "</style>\n",
       "<table border=\"1\" class=\"dataframe\">\n",
       "  <thead>\n",
       "    <tr style=\"text-align: right;\">\n",
       "      <th></th>\n",
       "      <th>product_id</th>\n",
       "      <th>product_color_id</th>\n",
       "      <th>attribute_name</th>\n",
       "      <th>attribute_value</th>\n",
       "    </tr>\n",
       "  </thead>\n",
       "  <tbody>\n",
       "    <tr>\n",
       "      <th>0</th>\n",
       "      <td>01E5ZXP5H0BTEZT9QD2HRZJ47A</td>\n",
       "      <td>01E5ZXP5JCREDC7WJVMWHK5Q40</td>\n",
       "      <td>materialclothing</td>\n",
       "      <td>linenblend</td>\n",
       "    </tr>\n",
       "    <tr>\n",
       "      <th>1</th>\n",
       "      <td>01E5ZXP5H0BTEZT9QD2HRZJ47A</td>\n",
       "      <td>01E5ZXP5JCREDC7WJVMWHK5Q40</td>\n",
       "      <td>materialclothing</td>\n",
       "      <td>cottonblend</td>\n",
       "    </tr>\n",
       "    <tr>\n",
       "      <th>2</th>\n",
       "      <td>01E5ZXP5H0BTEZT9QD2HRZJ47A</td>\n",
       "      <td>01E5ZXP5JCREDC7WJVMWHK5Q40</td>\n",
       "      <td>style</td>\n",
       "      <td>modern</td>\n",
       "    </tr>\n",
       "  </tbody>\n",
       "</table>\n",
       "</div>"
      ],
      "text/plain": [
       "                   product_id            product_color_id    attribute_name  \\\n",
       "0  01E5ZXP5H0BTEZT9QD2HRZJ47A  01E5ZXP5JCREDC7WJVMWHK5Q40  materialclothing   \n",
       "1  01E5ZXP5H0BTEZT9QD2HRZJ47A  01E5ZXP5JCREDC7WJVMWHK5Q40  materialclothing   \n",
       "2  01E5ZXP5H0BTEZT9QD2HRZJ47A  01E5ZXP5JCREDC7WJVMWHK5Q40             style   \n",
       "\n",
       "  attribute_value  \n",
       "0      linenblend  \n",
       "1     cottonblend  \n",
       "2          modern  "
      ]
     },
     "execution_count": 11,
     "metadata": {},
     "output_type": "execute_result"
    }
   ],
   "source": [
    "tags.head(3)"
   ]
  },
  {
   "cell_type": "code",
   "execution_count": 12,
   "metadata": {
    "colab": {
     "base_uri": "https://localhost:8080/"
    },
    "id": "t6tU-V572ghA",
    "outputId": "0b3e1ad2-0e6a-4826-cb01-c8c09dbe77a6"
   },
   "outputs": [
    {
     "name": "stdout",
     "output_type": "stream",
     "text": [
      "<class 'pandas.core.frame.DataFrame'>\n",
      "RangeIndex: 97420 entries, 0 to 97419\n",
      "Data columns (total 4 columns):\n",
      " #   Column            Non-Null Count  Dtype \n",
      "---  ------            --------------  ----- \n",
      " 0   product_id        97420 non-null  object\n",
      " 1   product_color_id  97420 non-null  object\n",
      " 2   attribute_name    97420 non-null  object\n",
      " 3   attribute_value   97420 non-null  object\n",
      "dtypes: object(4)\n",
      "memory usage: 3.0+ MB\n"
     ]
    }
   ],
   "source": [
    "tags.info()"
   ]
  },
  {
   "cell_type": "markdown",
   "metadata": {
    "id": "1uE48ypA2ghA"
   },
   "source": [
    "# Data Cleaning\n",
    "- In this cell, we want to remove new line \"\\n\" since just in case that it was unnecessarily tokenized for text analysis"
   ]
  },
  {
   "cell_type": "code",
   "execution_count": 13,
   "metadata": {
    "colab": {
     "base_uri": "https://localhost:8080/",
     "height": 992
    },
    "id": "UYwFKMF72ghB",
    "outputId": "fa54c053-50f2-4da6-db08-76c4b53bdc69"
   },
   "outputs": [
    {
     "data": {
      "text/html": [
       "<div>\n",
       "<style scoped>\n",
       "    .dataframe tbody tr th:only-of-type {\n",
       "        vertical-align: middle;\n",
       "    }\n",
       "\n",
       "    .dataframe tbody tr th {\n",
       "        vertical-align: top;\n",
       "    }\n",
       "\n",
       "    .dataframe thead th {\n",
       "        text-align: right;\n",
       "    }\n",
       "</style>\n",
       "<table border=\"1\" class=\"dataframe\">\n",
       "  <thead>\n",
       "    <tr style=\"text-align: right;\">\n",
       "      <th></th>\n",
       "      <th>product_id</th>\n",
       "      <th>brand</th>\n",
       "      <th>brand_category</th>\n",
       "      <th>name</th>\n",
       "      <th>details</th>\n",
       "      <th>created_at</th>\n",
       "      <th>description</th>\n",
       "      <th>brand_description</th>\n",
       "      <th>brand_name</th>\n",
       "      <th>product_active</th>\n",
       "    </tr>\n",
       "  </thead>\n",
       "  <tbody>\n",
       "    <tr>\n",
       "      <th>0</th>\n",
       "      <td>01EX0PN4J9WRNZH5F93YEX6QAF</td>\n",
       "      <td>Two</td>\n",
       "      <td>Unknown</td>\n",
       "      <td>Khadi Stripe Shirt-our signature shirt</td>\n",
       "      <td>NaN</td>\n",
       "      <td>2021-01-27 01:17:19.305 UTC</td>\n",
       "      <td>Our signature khadi shirt available in black and white Easy to wear from beach to city. We promise this top will be your go-to warm weather item. Perfect under a blazer. Hand loomed woven stripe in khadi cotton.  Slightly sheer and gets softer with every wash. Ships First week of April COLOR: WHITE OR BLACK —  Length 27\"  and  Width  26.5\" —  One size fits most —  Grid khadi cotton</td>\n",
       "      <td>Our signature khadi shirt  available in black and white  Easy to wear from beach to city. We promise this top will be your go-to warm weather item. Perfect under a blazer. Hand loomed woven stripe in khadi cotton.  Slightly sheer and gets softer with every wash. Ships First week of April   COLOR: WHITE OR BLACK  —  Length 27\"  and  Width  26.5\" —  One size fits most —  Grid khadi cotton</td>\n",
       "      <td>Khadi Stripe Shirt-our signature shirt</td>\n",
       "      <td>True</td>\n",
       "    </tr>\n",
       "    <tr>\n",
       "      <th>1</th>\n",
       "      <td>01F0C4SKZV6YXS3265JMC39NXW</td>\n",
       "      <td>Collina Strada</td>\n",
       "      <td>Unknown</td>\n",
       "      <td>RUFFLE MARKET DRESS LOOPY PINK SISTINE TOMATO</td>\n",
       "      <td>NaN</td>\n",
       "      <td>2021-03-09 18:43:10.457 UTC</td>\n",
       "      <td>Mid-length dress with ruffles and adjustable straps. Bias cut. Side seam invisible zipper Made in New York Model wears size small 100% Rose sylk Rose sylk is an organic cellulose fiber made from the natural waste of rose bushes and stems.</td>\n",
       "      <td>Mid-length dress with ruffles and adjustable straps. Bias cut. Side seam invisible zipper.   Made in New York  Model wears size small     100% Rose sylk  Rose sylk is an organic cellulose fiber made from the natural waste of rose bushes and stems.</td>\n",
       "      <td>RUFFLE MARKET DRESS LOOPY PINK SISTINE TOMATO</td>\n",
       "      <td>True</td>\n",
       "    </tr>\n",
       "    <tr>\n",
       "      <th>2</th>\n",
       "      <td>01EY4Y1BW8VZW51BWG5VZY82XW</td>\n",
       "      <td>Cariuma</td>\n",
       "      <td>Unknown</td>\n",
       "      <td>IBI Slip On Raw Red Knit Sneaker Women</td>\n",
       "      <td>NaN</td>\n",
       "      <td>2021-02-10 02:58:59.591 UTC</td>\n",
       "      <td>IBI Slip On Raw Red Knit Sneaker Women</td>\n",
       "      <td>IBI Slip On Raw Red Knit Sneaker Women</td>\n",
       "      <td>IBI Slip On Raw Red Knit Sneaker Women</td>\n",
       "      <td>False</td>\n",
       "    </tr>\n",
       "  </tbody>\n",
       "</table>\n",
       "</div>"
      ],
      "text/plain": [
       "                   product_id           brand brand_category  \\\n",
       "0  01EX0PN4J9WRNZH5F93YEX6QAF             Two        Unknown   \n",
       "1  01F0C4SKZV6YXS3265JMC39NXW  Collina Strada        Unknown   \n",
       "2  01EY4Y1BW8VZW51BWG5VZY82XW         Cariuma        Unknown   \n",
       "\n",
       "                                            name details  \\\n",
       "0         Khadi Stripe Shirt-our signature shirt     NaN   \n",
       "1  RUFFLE MARKET DRESS LOOPY PINK SISTINE TOMATO     NaN   \n",
       "2         IBI Slip On Raw Red Knit Sneaker Women     NaN   \n",
       "\n",
       "                    created_at  \\\n",
       "0  2021-01-27 01:17:19.305 UTC   \n",
       "1  2021-03-09 18:43:10.457 UTC   \n",
       "2  2021-02-10 02:58:59.591 UTC   \n",
       "\n",
       "                                                                                                                                                                                                                                                                                                                                                                                        description  \\\n",
       "0  Our signature khadi shirt available in black and white Easy to wear from beach to city. We promise this top will be your go-to warm weather item. Perfect under a blazer. Hand loomed woven stripe in khadi cotton.  Slightly sheer and gets softer with every wash. Ships First week of April COLOR: WHITE OR BLACK —  Length 27\"  and  Width  26.5\" —  One size fits most —  Grid khadi cotton   \n",
       "1                                                                                                                                                    Mid-length dress with ruffles and adjustable straps. Bias cut. Side seam invisible zipper Made in New York Model wears size small 100% Rose sylk Rose sylk is an organic cellulose fiber made from the natural waste of rose bushes and stems.   \n",
       "2                                                                                                                                                                                                                                                                                                                                                            IBI Slip On Raw Red Knit Sneaker Women   \n",
       "\n",
       "                                                                                                                                                                                                                                                                                                                                                                                       brand_description  \\\n",
       "0  Our signature khadi shirt  available in black and white  Easy to wear from beach to city. We promise this top will be your go-to warm weather item. Perfect under a blazer. Hand loomed woven stripe in khadi cotton.  Slightly sheer and gets softer with every wash. Ships First week of April   COLOR: WHITE OR BLACK  —  Length 27\"  and  Width  26.5\" —  One size fits most —  Grid khadi cotton   \n",
       "1                                                                                                                                                Mid-length dress with ruffles and adjustable straps. Bias cut. Side seam invisible zipper.   Made in New York  Model wears size small     100% Rose sylk  Rose sylk is an organic cellulose fiber made from the natural waste of rose bushes and stems.   \n",
       "2                                                                                                                                                                                                                                                                                                                                                                 IBI Slip On Raw Red Knit Sneaker Women   \n",
       "\n",
       "                                      brand_name  product_active  \n",
       "0         Khadi Stripe Shirt-our signature shirt            True  \n",
       "1  RUFFLE MARKET DRESS LOOPY PINK SISTINE TOMATO            True  \n",
       "2         IBI Slip On Raw Red Knit Sneaker Women           False  "
      ]
     },
     "execution_count": 13,
     "metadata": {},
     "output_type": "execute_result"
    }
   ],
   "source": [
    "# leave product_description as backup datacolumn\n",
    "descriptions = products['description']\n",
    "\n",
    "def newline_replacer(text):\n",
    "    return re.sub(r'\\n',' ',text).strip()\n",
    "\n",
    "# speed up the loop over each column and remove the new line symbol \"\\n\"\n",
    "for col in ['name', 'description', 'brand_description', 'brand_name']:\n",
    "    value_col = products[col].apply(lambda x: newline_replacer(str(x)))\n",
    "    products[col] = value_col\n",
    "\n",
    "products.head(3)"
   ]
  },
  {
   "cell_type": "markdown",
   "metadata": {
    "id": "2qYucWkN2ghC"
   },
   "source": [
    "# Feature Engineering"
   ]
  },
  {
   "cell_type": "markdown",
   "metadata": {},
   "source": [
    "## time-base variable 1:  the quarter the product was created\n",
    "\n",
    "- we know that the fashion and style of clothing would change rapidly from quarter to quarter in order to cater for customer's fast-changing fashion appetite. We want to extract the quarter number to see it could help to calssify the brand_name. \n"
   ]
  },
  {
   "cell_type": "code",
   "execution_count": 36,
   "metadata": {},
   "outputs": [],
   "source": [
    "datetime = pd.to_datetime(products['created_at'],infer_datetime_format=True, utc=True)"
   ]
  },
  {
   "cell_type": "code",
   "execution_count": 64,
   "metadata": {},
   "outputs": [],
   "source": [
    "products['created_at'] = datetime\n",
    "products['quarter'] = datetime.dt.quarter"
   ]
  },
  {
   "cell_type": "code",
   "execution_count": 65,
   "metadata": {},
   "outputs": [
    {
     "data": {
      "text/plain": [
       "3    21737\n",
       "4    16564\n",
       "1    14662\n",
       "2     8392\n",
       "Name: created_at, dtype: int64"
      ]
     },
     "execution_count": 65,
     "metadata": {},
     "output_type": "execute_result"
    }
   ],
   "source": [
    "# We can see that, in the third quarter, the number of product creations was the highest relative to the other quarters\n",
    "datetime.dt.quarter.value_counts()"
   ]
  },
  {
   "cell_type": "markdown",
   "metadata": {},
   "source": [
    "## time-base variable 2:  the number of hours has passed since the last product creation\n",
    "\n",
    "- The velocity of product creation will signify a fashion retailer's corporate culture and mission. If a brand can create a product rapidly, it will help a fashion brand get hits and market shares from customers much easier than the brand which react slowly to the market. Therefore this predictor will help us distinguish `fast fashion brands` and `sluggish brands`.\n",
    "\n",
    "- Probably this `created_at` just indicates the timestamp when products were entered into Behold product management system. It is still worth to try but may lose its real business meaning in our context. However, as long as the `created_at` is correlated with the real product creation timestamp (after all, new clothing products must be designed and rolled out first before they are collected and managed by Behold) and time lapse between real product launch and product entry created at the  Behold system is relatively constant, it is still acceptable in this business case."
   ]
  },
  {
   "cell_type": "code",
   "execution_count": 66,
   "metadata": {},
   "outputs": [],
   "source": [
    "# create an empty database\n",
    "time_speed = products[['brand','created_at']]\n",
    "\n",
    "# create date value for comparison\n",
    "time_speed['date'] = datetime.dt.date\n",
    "\n",
    "# create data copy \n",
    "time_speed_1 = time_speed.copy()"
   ]
  },
  {
   "cell_type": "code",
   "execution_count": 67,
   "metadata": {},
   "outputs": [],
   "source": [
    "# sort value based on brand and created at so that we can assign processed values back to the dataframe\n",
    "time_speed = time_speed.sort_values(by=['brand','created_at'])\n",
    "\n",
    "# create one day time lag within each brand groupping\n",
    "time_speed['last_product'] = time_speed.sort_values(by=['brand','created_at']).groupby('brand')['created_at'].shift()"
   ]
  },
  {
   "cell_type": "code",
   "execution_count": 117,
   "metadata": {},
   "outputs": [],
   "source": [
    "# if the produt did not has any values, we assume its last procut creation was the median value of the entire distribution\n",
    "time_interval  = (time_speed['created_at'] - time_speed['last_product']).astype('timedelta64[s]')\n",
    "\n",
    "# fill in the median and rank the rows so as to make it more robust to outliers\n",
    "time_interval_cleaned = time_interval.fillna(time_interval.median()).rank(method='dense',ascending =True)\n",
    "\n",
    "products['product_creation_speed'] = time_interval_cleaned"
   ]
  },
  {
   "cell_type": "markdown",
   "metadata": {
    "id": "4k556QoI5wuB"
   },
   "source": [
    "## Gender Target: \n",
    "- is_women_clothing: Binary {1: Yes, 0: No}\n",
    "- is_men_clothing: Binary {1: Yes, 0: No}\n",
    "- In our datasets some products target male customers specifically. Before modeling, this part of rows will be removed and we just focus on female clothing products. Also, we know that there must be a better way to label male and female products e.g. model-based or rule-based. In this case, our team think excluding products that explicitly contain male-related keywords would be a more feasible approach rather than just selecting female-labeled prodcuts as products without specifying for women only excplicitly do not necessarily mean it is not for women."
   ]
  },
  {
   "cell_type": "code",
   "execution_count": 15,
   "metadata": {
    "id": "IS7Pc5sd2ghC"
   },
   "outputs": [],
   "source": [
    "# Search the keywords in all columns to see if they contain women-related keywords\n",
    "products['is_womens_clothing'] = products[['description','brand_name']].apply(lambda x: x.astype(str).str.\\\n",
    "                                    findall(r'\\b(woman|women|girls?|females?|lady|ladies|unisex|women\\'s|woman\\'s)\\b', re.IGNORECASE).any(), axis=1)\n",
    "\n",
    "# Transform the list-like results into binary outcomes\n",
    "# if the list is not empty, we return 1 otherwise 0\n",
    "\"\"\"\n",
    "1: This product's target audience is for women\n",
    "0: This product's target audience is not for women\n",
    "\"\"\"\n",
    "\n",
    "products['is_womens_clothing'] = products['is_womens_clothing'].apply(lambda x: 1 if len(x) > 0 else 0)\n"
   ]
  },
  {
   "cell_type": "code",
   "execution_count": 16,
   "metadata": {
    "colab": {
     "base_uri": "https://localhost:8080/"
    },
    "id": "k_7bTn3ekhGL",
    "outputId": "16d24e66-e331-44e9-ad31-6bb8ab864b2b"
   },
   "outputs": [
    {
     "data": {
      "text/plain": [
       "0    58451\n",
       "1     2904\n",
       "Name: is_womens_clothing, dtype: int64"
      ]
     },
     "execution_count": 16,
     "metadata": {},
     "output_type": "execute_result"
    }
   ],
   "source": [
    "# Check the distribution of is_women_clothing\n",
    "products['is_womens_clothing'].value_counts()"
   ]
  },
  {
   "cell_type": "code",
   "execution_count": 17,
   "metadata": {
    "id": "u-h4zkYy35aT"
   },
   "outputs": [],
   "source": [
    "# Search the keywords in brand_name and description columns to see if they contain men-related keywords\n",
    "# The reasons why we dont search brand column is information leakage concern\n",
    "products['is_men_clothing'] = products[['description','brand_name']].apply(lambda x: x.astype(str).str.\\\n",
    "                            findall(r'\\b(man|men|boys?|males?|gentlem[ae]n)\\b', re.IGNORECASE).any(), axis=1)\n",
    "\n",
    "# Transform the list-like results into binary outcomes\n",
    "# If the list is not empty, we return 1 otherwise 0\n",
    "\"\"\"\n",
    "1: This product's target audience is for men\n",
    "0: This product's target audience is not for men\n",
    "\"\"\"\n",
    "\n",
    "products['is_men_clothing'] = products['is_men_clothing'].apply(lambda x: 1 if len(x) > 0 else 0)"
   ]
  },
  {
   "cell_type": "code",
   "execution_count": 18,
   "metadata": {
    "colab": {
     "base_uri": "https://localhost:8080/"
    },
    "id": "h-64Iw1A8b4v",
    "outputId": "0546f295-1f18-4da5-96d3-f4089c0213b7"
   },
   "outputs": [
    {
     "data": {
      "text/plain": [
       "0    60054\n",
       "1     1301\n",
       "Name: is_men_clothing, dtype: int64"
      ]
     },
     "execution_count": 18,
     "metadata": {},
     "output_type": "execute_result"
    }
   ],
   "source": [
    "# Check the distribution of is_men_clothing\n",
    "products.is_men_clothing.value_counts()"
   ]
  },
  {
   "cell_type": "markdown",
   "metadata": {
    "id": "f0MnWb1ucqP2"
   },
   "source": [
    "## Country Origin - Use Re to identify Made in `xxx`"
   ]
  },
  {
   "cell_type": "code",
   "execution_count": 19,
   "metadata": {
    "id": "JxyrIx4C2ghD"
   },
   "outputs": [],
   "source": [
    "# Use regular expression to find the origin of country in which a target clothes is produced\n",
    "products['origins'] = values_cty = descriptions.apply(lambda x: re.findall(r\"\\b(?<=Made in )((?:the)?\\s?[a-zA-Z]+\\s?[a-zA-Z]+\\s?[a-zA-Z]+)(?=\\n)?\\b\",x))\n",
    "\n",
    "# Extract the first value from the list as the first value in the list is closest to the \"Made in\" and thus likely to contain a geographical location\n",
    "products['origins'] = products['origins'].apply(lambda x: x[0].strip() if len(x) >= 1 else np.nan)"
   ]
  },
  {
   "cell_type": "code",
   "execution_count": 20,
   "metadata": {
    "id": "P8s5wSEht25k"
   },
   "outputs": [],
   "source": [
    "# Used regex to manually adjust some unfavorable results produced by regex and grouped country orgins in groups that contain at least 1000 records\n",
    "regex_USA = re.compile(r'\\bUSA\\s?.*|the USA\\s?.*|Seattle\\s?.*|the US\\s.*|U\\.S\\.\\s?.*|USA\\s?.*|California|partnership with the City of USA and the USA|America|USA City|USA of imported fabric|New York|USA|Brooklyn|the USA|USA|NYC\\s?.*|LA\\s.*|Los Angeles\\s?.*|US|New York City|New York City by Ninh Wysocan|United States|NY|USA by Ninh Wysocan|USAmu by Sandy Bornman from Aman with hand|USA of imported fabric|USA from\\b')\n",
    "regex_Italy = re.compile('\\bItaly[A-Za-z ]+|Italian|Italy\\s?.*|Italyaly|ItalyALY|IT|ITALY|Italy USAing a seamless|Italy using a seamless |Italy using excess swimwear material\\b')\n",
    "regex_China = re.compile(r'\\bPRC|Hong Kong|CN|CHINA|china\\b')\n",
    "regex_Ghana = re.compile(r'\\bGhana\\s?.*|Accra|Ghanas|Ghana artisan|Ghana with|Ghana with local|Ghana local|Ghana local artisans\\b')\n",
    "regex_Peru = re.compile(r'\\bPeru\\s?.*|Peru by artisan women with LOVE|Peru DETAIL|Peru from|Peru with LOVE|Peru by women artisans with LOVE|Peru with LOVE DETAIL|Peru with LOVE DETAIL|Peru DETAIL\\b')\n",
    "regex_spain = re.compile(r'\\bSpain\\s?.*|Spain SIZE Self|Spain classic is|Spain using the finest leathers|SPAIN\\b')\n",
    "regex_india = re.compile('\\bIndia Dry Clean|the India|india\\s?.*|India\\s?.*\\b')\n",
    "\n",
    "def regex_clean(value):\n",
    "    if isinstance(value,float) or value == '':\n",
    "        return 'Others'\n",
    "    else:\n",
    "        value = regex_USA.sub(\"USA\",value)\n",
    "        value = regex_Italy.sub(\"Italy\",value)\n",
    "        value = regex_China.sub(\"China\",value)\n",
    "        value = regex_Ghana.sub('Ghana',value)\n",
    "        value = regex_Peru.sub('Peru',value)\n",
    "        value = regex_spain.sub('Spain',value)\n",
    "        value = regex_india.sub('India',value)\n",
    "    return value\n",
    "\n",
    "# Regex cleaning\n",
    "clean_cty = products['origins'].apply(regex_clean)\n",
    "\n",
    "# Get the first element in the list, since the first one will be the closest “Made in”\n",
    "clean_cty = pd.Series(list(map(lambda x: x[0],clean_cty.str.split(' '))))\n",
    "\n",
    "# define the country grouping with at least 100 records\n",
    "cty_grouping = clean_cty.value_counts()[clean_cty.value_counts() >= 100].index.tolist()\n",
    "\n",
    "# Assign it back to origin\n",
    "products['origins'] = clean_cty.apply(lambda x: x if x in cty_grouping else 'Others')"
   ]
  },
  {
   "cell_type": "code",
   "execution_count": 21,
   "metadata": {
    "colab": {
     "base_uri": "https://localhost:8080/"
    },
    "id": "FAL0GL36khGN",
    "outputId": "48d645d1-71d9-41af-e745-e66c71cf52d7"
   },
   "outputs": [
    {
     "data": {
      "text/plain": [
       "Others      47764\n",
       "USA          7192\n",
       "Italy        1496\n",
       "China         914\n",
       "Ethiopia      734\n",
       "Peru          681\n",
       "Spain         448\n",
       "Ghana         387\n",
       "Portugal      384\n",
       "Kenya         358\n",
       "India         319\n",
       "Brazil        205\n",
       "Turkey        131\n",
       "Morocco       125\n",
       "Vietnam       110\n",
       "France        107\n",
       "Name: origins, dtype: int64"
      ]
     },
     "execution_count": 21,
     "metadata": {},
     "output_type": "execute_result"
    }
   ],
   "source": [
    "products['origins'].value_counts()"
   ]
  },
  {
   "cell_type": "markdown",
   "metadata": {
    "id": "nvu7X8sI5Kaq"
   },
   "source": [
    "## Product Categories"
   ]
  },
  {
   "cell_type": "code",
   "execution_count": 22,
   "metadata": {
    "id": "U5ocTXpU2ghE"
   },
   "outputs": [],
   "source": [
    "# list all possible names for each category\n",
    "Top = ['tee', 'hoodie', 'sweatshirt', 'top', 't-shirt', 'shirt', 'blouse', 'sweater', 'cardigan']\n",
    "Bottom = ['pant','short','jean','skirt','legging','jogger','sweatpant']\n",
    "OnePiece = ['jumpsuit','dress','onepiece','romper','bodysuit', 'swimsuit']\n",
    "Shoe = ['boot','bootie','clog','oxford','flat','heel','mule','sandal','sneaker','shoe']\n",
    "Handbag = ['bag','backpack','clutch','satchel','tote','wallet','purse','handbag']\n",
    "Scarf = ['scarf','wrap']\n",
    "Category={}\n",
    "for i in Top:\n",
    "    Category[i] = \"Top\"\n",
    "for i in Bottom:\n",
    "    Category[i] = \"Bottom\"\n",
    "for i in OnePiece:\n",
    "    Category[i] = \"OnePiece\"\n",
    "for i in Shoe:\n",
    "    Category[i] = \"Shoe\"\n",
    "for i in Handbag:\n",
    "    Category[i] = \"Handbag\"\n",
    "for i in Scarf:\n",
    "    Category[i] = \"Scarf\""
   ]
  },
  {
   "cell_type": "code",
   "execution_count": 23,
   "metadata": {
    "id": "gLpYsl772ghF"
   },
   "outputs": [],
   "source": [
    "# Search the keywords in all columns to see if they contain product_category-related keywords\n",
    "products['product_category'] = products['description'].fillna('No product description').apply(lambda x: re.findall(r'(\\b(tee*|hoodie*|sweatshirt*|top*|t-shirt*|shirt*|blouse*|sweater*|cardigan*|\\\n",
    "                                        pant*|short*|jean*|skirt*|legging*|jogger*|sweatpant*|\\\n",
    "                                               jumpsuit*|dress*|onepiece*|romper*|bodysuit*|swimsuit*|\\\n",
    "                                           boot*|bootie*|clog*|oxford*|flat*|heel*|mule*|sandal*|sneaker*|shoe*|\\\n",
    "                                       bag*|backpack*|clutch*|satchel*|tote*|wallet*|purse*|handbag*|\\\n",
    "                                       scarf*|wrap*)\\b)',x.lower()))"
   ]
  },
  {
   "cell_type": "code",
   "execution_count": 24,
   "metadata": {
    "id": "TQcl3m3I2ghF"
   },
   "outputs": [],
   "source": [
    "# remove the values = '[]' in some rows and get the first value from the list as we think this is the most revelant information\n",
    "products['product_category'] = products['product_category'].apply(lambda x: 'NA' if len(x) == 0 else str(x[0][0]).lower())"
   ]
  },
  {
   "cell_type": "code",
   "execution_count": 25,
   "metadata": {
    "id": "_b2fdkXc2ghG"
   },
   "outputs": [],
   "source": [
    "# lower all extracted product_category-related keywords and map it to the category\n",
    "products = products.replace({\"product_category\": Category})"
   ]
  },
  {
   "cell_type": "markdown",
   "metadata": {
    "id": "kaZKSdQYH3eT"
   },
   "source": [
    "## Colors\n",
    "- it's reasonable to assume that colors might be a lame indicator since most of brands would produce multiple colors to fit varying preferences of customers. However, number of colors might instead be a enhanced version of color-related variable"
   ]
  },
  {
   "cell_type": "code",
   "execution_count": 119,
   "metadata": {
    "id": "LAbJmvo82ghG"
   },
   "outputs": [],
   "source": [
    "# Search the keywords in all columns to see if they contain color-related keywords\n",
    "products['colors'] = products['description'].apply(lambda x: re.findall(r'(\\b(beige|black|blue|brown|burgundy|gold|gray|green|\\\n",
    "                                        multi|navy|neutral|orange|pinks|purple|red|silver|\\\n",
    "                                        teal|white|yellow)\\b)',str(x).lower() ))"
   ]
  },
  {
   "cell_type": "code",
   "execution_count": 120,
   "metadata": {
    "id": "DW-aOdY82ghG"
   },
   "outputs": [],
   "source": [
    "# for some items, we might have multiple colors. so we need to remove duplicate colors for the item\n",
    "def remove_duplicates(result):\n",
    "    elements = [element for result_tuple in result for element in result_tuple]\n",
    "    return list(set(elements))\n",
    "\n",
    "products['colors'] = products['colors'].apply(remove_duplicates)"
   ]
  },
  {
   "cell_type": "code",
   "execution_count": 121,
   "metadata": {
    "id": "9pqB5mF82ghH"
   },
   "outputs": [],
   "source": [
    "# remove the values = '[]' in some rows; if there are more than one color, make it equal to 'multi'\n",
    "def define_color_groups(element):\n",
    "    if len(element) == 0:\n",
    "        return 'No Color'    \n",
    "    if len(element) == 1:\n",
    "        return str(element[0]).lower()\n",
    "    if len(element) > 1:\n",
    "        return 'Multi'\n",
    "       \n",
    "products['colors'] = products['colors'].apply(define_color_groups)"
   ]
  },
  {
   "cell_type": "markdown",
   "metadata": {
    "id": "_an8ykIcp1UQ"
   },
   "source": [
    "## Materials\n",
    "\n"
   ]
  },
  {
   "cell_type": "markdown",
   "metadata": {
    "id": "KNUUxzlZUJu0"
   },
   "source": [
    "it's necessary to extract out material of the product since some brands may only use certain kind of materials. Therefore, it would be an important variable to predict the brand."
   ]
  },
  {
   "cell_type": "code",
   "execution_count": 122,
   "metadata": {
    "colab": {
     "base_uri": "https://localhost:8080/"
    },
    "id": "YiETU93ezJbZ",
    "outputId": "786c69a7-c9ff-4720-9f9d-8fe5f381846f"
   },
   "outputs": [
    {
     "data": {
      "text/plain": [
       "Others       40159\n",
       "cotton        9340\n",
       "polyester     2671\n",
       "viscose       2220\n",
       "rayon         1542\n",
       "silk          1388\n",
       "linen         1242\n",
       "polyamide      921\n",
       "organic        745\n",
       "wool           597\n",
       "nylon          530\n",
       "Name: material, dtype: int64"
      ]
     },
     "execution_count": 122,
     "metadata": {},
     "output_type": "execute_result"
    }
   ],
   "source": [
    "#  Search the keywords in all columns to see if they contain material-related keywords\n",
    "products['material'] = products.apply(lambda x: x.astype(str).str.findall(r'(?<=\\%).(\\w+)', \\\n",
    "                                                                          re.IGNORECASE).any(), axis=1)\n",
    "# Get the first value from the list since we think this is the most revelant information\n",
    "products['material'] = products['material'].apply(lambda x: x[0].strip() if len(x) >= 1 else np.nan)\n",
    "\n",
    "# lower all values for the material column\n",
    "for i in range(len(products)):\n",
    "    if isinstance(products['material'][i],str):\n",
    "        products['material'][i] = products['material'][i].lower()\n",
    "\n",
    "# get the most common 10 materials, and mark other materials as others \n",
    "products['material'] = products['material'].apply(lambda x: x if x in \\\n",
    "                    ['cotton','polyester','viscose','rayon','silk','linen','polyamide','organic','wool','nylon'] \n",
    "                                 else 'Others')\n",
    "\n",
    "products.material.value_counts()"
   ]
  },
  {
   "cell_type": "markdown",
   "metadata": {
    "id": "5FTeauzKJ6Gr"
   },
   "source": [
    "## Slim Fit?\n",
    "- We did not know how this varaible could be useful unless we create it and test it out."
   ]
  },
  {
   "cell_type": "code",
   "execution_count": 123,
   "metadata": {
    "id": "okQwRpNk2ghJ"
   },
   "outputs": [],
   "source": [
    "products['IS_SLIM_FIT'] = products[\"description\"].str.contains(r'\\bslim\\s?fit\\b', case=False, regex =True).fillna(False).astype(int)"
   ]
  },
  {
   "cell_type": "markdown",
   "metadata": {
    "id": "Xx14K9B5LHgf"
   },
   "source": [
    "## Looose or Relaxed Fit?\n",
    "- We did not know how this varaible could be useful unless we create it and test it out."
   ]
  },
  {
   "cell_type": "code",
   "execution_count": 124,
   "metadata": {
    "id": "IiWFiL9KKo4P"
   },
   "outputs": [],
   "source": [
    "products['IS_RELAX_FIT'] = products[\"description\"].str.contains(r'\\brelax\\s?fit|loose\\b', case=False, regex =True).fillna(False).astype(int)"
   ]
  },
  {
   "cell_type": "markdown",
   "metadata": {
    "id": "j7jwPn3RMAFG"
   },
   "source": [
    "## Dry Clean\n",
    "- Could `Dry Clean` condition be a useful predicitve variable to classify brand name? Since, we have no idea at all but it is definitely worth a try."
   ]
  },
  {
   "cell_type": "code",
   "execution_count": 125,
   "metadata": {
    "id": "HJH2CqHXL4Wo"
   },
   "outputs": [],
   "source": [
    "products['IS_DRY_CLEAN'] = products[\"description\"].str.contains(r'\\bdry\\s?clean\\b', case=False, regex =True).fillna(False).astype(int)"
   ]
  },
  {
   "cell_type": "code",
   "execution_count": 126,
   "metadata": {
    "colab": {
     "base_uri": "https://localhost:8080/"
    },
    "id": "74scPaGdMK_o",
    "outputId": "23794e0c-c367-4186-be3e-a1025496fa7d"
   },
   "outputs": [
    {
     "data": {
      "text/plain": [
       "0    53586\n",
       "1     7769\n",
       "Name: IS_DRY_CLEAN, dtype: int64"
      ]
     },
     "execution_count": 126,
     "metadata": {},
     "output_type": "execute_result"
    }
   ],
   "source": [
    "products['IS_DRY_CLEAN'].value_counts()"
   ]
  },
  {
   "cell_type": "markdown",
   "metadata": {
    "id": "bgfxvjgo1tto"
   },
   "source": [
    "## Model Size\n",
    "- Typically, a brand usually has its own specific and unique preferences of models, who can delivery strong brand image effectively to customers. Also, some products or brands would typically target different groups of customers. Therefore, model size is the most direct reference for customers to imagine how do clothes looks like if they wear. Therefore, it is supposed that model size can ba a good indicator to classify brands"
   ]
  },
  {
   "cell_type": "code",
   "execution_count": 127,
   "metadata": {
    "id": "4hhL32xr-7IF"
   },
   "outputs": [],
   "source": [
    "# define the top 6 groups\n",
    "def define_group(values:list, top = 6):\n",
    "    return pd.Series(values).value_counts(ascending=False).index[:top].tolist()"
   ]
  },
  {
   "cell_type": "code",
   "execution_count": 128,
   "metadata": {
    "id": "mz95dSva1s5i"
   },
   "outputs": [],
   "source": [
    "regex_product_model_statement = re.compile(\"([Mm]odels?.*)\")\n",
    "regex_product_model_size = re.compile(r\"(?:[Ss]ize\\s?)([A-Z]{1,3})\")\n",
    "values = [] \n",
    "\n",
    "for value in products[\"description\"].fillna('nan').values.tolist():\n",
    "    value = str(value)\n",
    "    value = re.sub(r'\\n',' ',value)\n",
    "    # first we search if desc contains \"Model\" information\n",
    "    if regex_product_model_statement.findall(value):\n",
    "        value_2 = regex_product_model_statement.findall(value)[0]\n",
    "        \n",
    "        # if it does, then we find the model size\n",
    "        if regex_product_model_size.findall(value_2):\n",
    "            value_3 = regex_product_model_size.findall(value_2)[0]\n",
    "            values.append(value_3)\n",
    "        else:\n",
    "            # if we cannot search size info, still classify it as No Model\n",
    "            values.append('No Model')\n",
    "    else:\n",
    "        values.append('No Model')\n",
    "\n",
    "products['model_size'] = pd.Series(values)\n",
    "\n",
    "top_six = define_group(values, top = 6)\n",
    "\n",
    "products['model_size'] = products['model_size'].apply(lambda x: x if x in top_six else 'Others')"
   ]
  },
  {
   "cell_type": "code",
   "execution_count": 129,
   "metadata": {
    "colab": {
     "base_uri": "https://localhost:8080/"
    },
    "id": "OzEBXSX5BgrU",
    "outputId": "d85eb6bd-923b-446e-8f6d-c752c9ec81a5"
   },
   "outputs": [
    {
     "data": {
      "text/plain": [
       "No Model    52801\n",
       "S            6138\n",
       "XS           1406\n",
       "M             403\n",
       "L             267\n",
       "SMA           221\n",
       "Others        119\n",
       "Name: model_size, dtype: int64"
      ]
     },
     "execution_count": 129,
     "metadata": {},
     "output_type": "execute_result"
    }
   ],
   "source": [
    "products['model_size'].value_counts()"
   ]
  },
  {
   "cell_type": "markdown",
   "metadata": {
    "id": "V0q4wyCXMfki"
   },
   "source": [
    "## Product Description Cleaning\n",
    "\n",
    "- remove the new line character, stopwords ,lowercase the text and strip out useless trailing and starting space in `description` and `brand_name`. This new colunmns will be used for doc2vec"
   ]
  },
  {
   "cell_type": "code",
   "execution_count": 130,
   "metadata": {
    "id": "5DtXIukSMPkU"
   },
   "outputs": [],
   "source": [
    "# Import package\n",
    "import re\n",
    "from gensim.parsing.preprocessing import STOPWORDS\n",
    "from gensim.parsing.preprocessing import remove_stopwords\n",
    "\n",
    "list_brand_name = []\n",
    "list_product_descr = []\n",
    "\n",
    "# Use regex to replace non-alphanumeric and non-space elements on both product_descr and brand_name\n",
    "regex = re.compile(r'[^\\w\\s]+')\n",
    "for i in products['brand_name'].fillna('no brand name').str.lower().str.strip().values:\n",
    "    i = str(i)\n",
    "    # remove all puctuation and make it as word sequence\n",
    "    val = regex.sub('', i)\n",
    "    # remove stopwords\n",
    "    val_rm_sw = remove_stopwords(val)\n",
    "    # append to the list\n",
    "    list_brand_name.append(val_rm_sw)\n",
    "\n",
    "## product description\n",
    "for i in products[\"description\"].fillna('no product description').str.lower().str.strip().values:\n",
    "    i = str(i)\n",
    "    # remove all puctuation and make it as word sequence\n",
    "    val = regex.sub('', i)\n",
    "    # remove stopwords\n",
    "    val_rm_sw = remove_stopwords(val)\n",
    "    # append to the list\n",
    "    list_product_descr.append(val_rm_sw)\n",
    "\n",
    "# assignment of processed value back to the column products['Product_Descr']\n",
    "products['clean_brand_name'] = pd.Series(list_brand_name)\n",
    "products['clean_product_descr'] = pd.Series(list_product_descr)"
   ]
  },
  {
   "cell_type": "code",
   "execution_count": 131,
   "metadata": {
    "colab": {
     "base_uri": "https://localhost:8080/",
     "height": 66,
     "referenced_widgets": [
      "a45d92bc966046088dd4e4361c094280",
      "7dd92f4463cd4bb99d3835249b37e5d0",
      "6e89a0296d97498ea480476581dfdc6b",
      "ecfdcf3414ef4a2db5c52b9f8bd45351",
      "33391b86ca5948eeaa77943b38960767",
      "135ca9613d5749e482584e13c5edc2c5",
      "c1eb591ee7854b39b72c6af1f0cf468b",
      "912514fd36604fb5ab0cb1bfa09553bd"
     ]
    },
    "id": "nmekhggtkhGT",
    "outputId": "2ea93a7c-bbd8-4e33-a1cd-9c52d33ac089"
   },
   "outputs": [
    {
     "data": {
      "application/vnd.jupyter.widget-view+json": {
       "model_id": "bee6971de80e429499cf79168c75bfde",
       "version_major": 2,
       "version_minor": 0
      },
      "text/plain": [
       "HBox(children=(FloatProgress(value=0.0, max=61355.0), HTML(value='')))"
      ]
     },
     "metadata": {},
     "output_type": "display_data"
    },
    {
     "name": "stdout",
     "output_type": "stream",
     "text": [
      "\n"
     ]
    }
   ],
   "source": [
    "from tqdm import tqdm_notebook as tqdm\n",
    "import spacy\n",
    "import en_core_web_md\n",
    "# use spacy to clean up brand name\n",
    "nlp = en_core_web_md.load(disable=['ner', 'parser', \"tok2vec\"])\n",
    "clean_brand_name = []\n",
    "\n",
    "for doc in tqdm(products['clean_brand_name'].values):\n",
    "    nlp_object = nlp(doc)\n",
    "    text_obj = [token.lemma_ for token in nlp_object \\\n",
    "                    if not token.is_stop and not token.is_punct and token.text != ' '] \n",
    "    clean_brand_name.append(' '.join(text_obj))"
   ]
  },
  {
   "cell_type": "code",
   "execution_count": 132,
   "metadata": {
    "colab": {
     "base_uri": "https://localhost:8080/",
     "height": 66,
     "referenced_widgets": [
      "bc87d2d6dc254dd6aa1b56809ff95a02",
      "e76b4b5d69d449c98e333bd8998fed51",
      "9d56352cbce24760bc754bbb117631ff",
      "9f9972285ef34cc894d8d0024c7bde62",
      "59031e167f96471ab5c766b7a1562b55",
      "4415abe6109445d883b1b20c2791de0c",
      "1e40553438334aac9855cd2d45f57b8f",
      "443852ece0ad44d8a624a157831da4ab"
     ]
    },
    "id": "chREyXOikhGT",
    "outputId": "ca838938-d976-4e21-cfb0-489b04afa701"
   },
   "outputs": [
    {
     "data": {
      "application/vnd.jupyter.widget-view+json": {
       "model_id": "444f996e44a14b4ea3944cfddcf0b4ba",
       "version_major": 2,
       "version_minor": 0
      },
      "text/plain": [
       "HBox(children=(FloatProgress(value=0.0, max=61355.0), HTML(value='')))"
      ]
     },
     "metadata": {},
     "output_type": "display_data"
    },
    {
     "name": "stdout",
     "output_type": "stream",
     "text": [
      "\n"
     ]
    }
   ],
   "source": [
    "clean_product_description = []\n",
    "\n",
    "# use spacy to clean up product description\n",
    "for doc in tqdm(products['clean_product_descr'].values):\n",
    "    nlp_object = nlp(doc)\n",
    "    text_obj = [token.lemma_ for token in nlp_object \\\n",
    "                    if not token.is_stop and not token.is_punct and token.text != ' '] \n",
    "    clean_product_description.append(' '.join(text_obj))"
   ]
  },
  {
   "cell_type": "code",
   "execution_count": 133,
   "metadata": {
    "id": "iu_IIJO1khGU"
   },
   "outputs": [],
   "source": [
    "products['clean_brand_name'] = clean_brand_name\n",
    "products['clean_product_descr'] = clean_product_description"
   ]
  },
  {
   "cell_type": "markdown",
   "metadata": {
    "id": "6ewx9FBIBuqK"
   },
   "source": [
    "## Product Active\n",
    "- `Product Active` variable is a quite trivial variable. The rationale of using this is if a brand's most products are inactive, it's likely that these products are no longer on sales, which in turn indicates that a brand might be out of business. Therefore `Product Active` can serve as a red flag to see if the model can classify brand through it."
   ]
  },
  {
   "cell_type": "code",
   "execution_count": 134,
   "metadata": {
    "id": "TMo66lSHa3Oh"
   },
   "outputs": [],
   "source": [
    "# Convert the column as binary varaible\n",
    "products['product_active'] = products['product_active'].astype(int)"
   ]
  },
  {
   "cell_type": "markdown",
   "metadata": {
    "id": "7Y8VbE6XkhGU"
   },
   "source": [
    "## Readability variables"
   ]
  },
  {
   "cell_type": "code",
   "execution_count": 135,
   "metadata": {
    "colab": {
     "base_uri": "https://localhost:8080/"
    },
    "id": "d3ggK8HKkhGU",
    "outputId": "95b1b782-0a3f-44fe-aab2-5544f405ba56"
   },
   "outputs": [
    {
     "name": "stderr",
     "output_type": "stream",
     "text": [
      "[nltk_data] Downloading package wordnet to\n",
      "[nltk_data]     /Users/kwlwman2/nltk_data...\n",
      "[nltk_data]   Package wordnet is already up-to-date!\n",
      "[nltk_data] Downloading package punkt to /Users/kwlwman2/nltk_data...\n",
      "[nltk_data]   Package punkt is already up-to-date!\n"
     ]
    }
   ],
   "source": [
    "import nltk\n",
    "from nltk.stem import WordNetLemmatizer, SnowballStemmer\n",
    "from collections import Counter\n",
    "from nltk.corpus import stopwords\n",
    "\n",
    "from nltk import word_tokenize\n",
    "from nltk.tokenize import RegexpTokenizer\n",
    "\n",
    "# download nltk\n",
    "nltk.download('wordnet')\n",
    "\n",
    "# for the sentence tokenizer\n",
    "nltk.download('punkt')\n",
    "\n",
    "sno = SnowballStemmer('english')\n",
    "wnl = WordNetLemmatizer()\n",
    "\n",
    "# tokenizer that filter out non letter and non symbol (i.e. all alphabets)\n",
    "word_tokenizer = RegexpTokenizer(r'[^\\d\\W]+')\n",
    "\n",
    "# only tokenize a word that is a character only\n",
    "def word_tokenize(sent):\n",
    "    return [w for w in word_tokenizer.tokenize(sent) if w.isalpha() ]"
   ]
  },
  {
   "cell_type": "markdown",
   "metadata": {
    "id": "tbDDRnuKkhGU"
   },
   "source": [
    "### Count syllables"
   ]
  },
  {
   "cell_type": "code",
   "execution_count": 136,
   "metadata": {
    "colab": {
     "base_uri": "https://localhost:8080/"
    },
    "id": "sTn3hb99khGV",
    "outputId": "eaf4a7a5-3a39-4d76-e7f0-1094116382b4"
   },
   "outputs": [
    {
     "name": "stderr",
     "output_type": "stream",
     "text": [
      "[nltk_data] Downloading package cmudict to\n",
      "[nltk_data]     /Users/kwlwman2/nltk_data...\n",
      "[nltk_data]   Package cmudict is already up-to-date!\n"
     ]
    }
   ],
   "source": [
    "import nltk\n",
    "nltk.download('cmudict')\n",
    "from nltk.corpus import cmudict\n",
    "import numpy as np\n",
    "\n",
    "d = cmudict.dict()\n",
    "def syllable_count(word):\n",
    "    try:\n",
    "        return np.min([len(list(y for y in x if y[-1].isdigit())) for x in d[word.lower()]])\n",
    "    except KeyError:\n",
    "        # if word not found in cmudict\n",
    "        return _syllables(word)\n",
    "\n",
    "def _syllables(word):\n",
    "    # referred from stackoverflow.com/questions/14541303/count-the-number-of-syllables-in-a-word\n",
    "    '''This function is to count how many syllables of a given word\n",
    "    \n",
    "    Args:\n",
    "        word:the word of which the syllable will be counted\n",
    "    \n",
    "    Returns:\n",
    "        the count of syllable\n",
    "    '''\n",
    "    count = 0\n",
    "    vowels = 'aeiouy'\n",
    "    word = word.lower()\n",
    "    if word[0] in vowels:\n",
    "        count +=1\n",
    "    for index in range(1,len(word)):\n",
    "        if word[index] in vowels and word[index-1] not in vowels:\n",
    "            count +=1\n",
    "    if word.endswith('e'):\n",
    "        count -= 1\n",
    "    if word.endswith('le'):\n",
    "        count+=1\n",
    "    if count == 0:\n",
    "        count +=1\n",
    "    return count"
   ]
  },
  {
   "cell_type": "code",
   "execution_count": 137,
   "metadata": {
    "id": "7szBm2JrkhGV"
   },
   "outputs": [],
   "source": [
    "from nltk.tokenize import sent_tokenize, word_tokenize\n",
    "\n",
    "# Count how many sentence in a given text\n",
    "def sentence_count(text):\n",
    "    return len(sent_tokenize(text))\n",
    "\n",
    "# Count how many words in a given sentence\n",
    "def word_count(sent):\n",
    "    return len([w for w in word_tokenize(sent)])\n",
    "\n",
    "# Count how many hard words of a given sentence\n",
    "def hard_word_count(sent):\n",
    "    return len([w for w in word_tokenize(sent) if syllable_count(wnl.lemmatize(w, pos='v'))>=3 ])"
   ]
  },
  {
   "cell_type": "markdown",
   "metadata": {
    "id": "oEEHDVnhkhGV"
   },
   "source": [
    "### Readability Grade-Levels\n",
    "\n",
    "Here, we will implement the two readability indices (grade levels). They are defined by\n",
    "\n",
    "\\begin{align}\n",
    "\\textrm{Flesch–Kincaid Grade} \n",
    "= 0.39 \\left(\n",
    "\\frac{\\textrm{Number of words}}{\\textrm{Number of sentences}}\n",
    "\\right) \\\\\n",
    "+11.8\n",
    "\\left(\n",
    "\\frac{\\textrm{Number of syllables}}{\\textrm{Number of words}}\n",
    "\\right)\n",
    "-15.59\n",
    "\\end{align}\n",
    "\n",
    "and\n",
    "\n",
    "\\begin{align}\n",
    "\\textrm{Gunning-Fog Grade} \n",
    "=\\; &0.4 \\bigg[ \n",
    "\\left(\n",
    "\\frac{\\textrm{Number of words}}{\\textrm{Number of sentences}}\n",
    "\\right) \n",
    "+100\n",
    "\\left(\n",
    "\\frac{\\textrm{Number of hard words}}{\\textrm{Number of words}}\n",
    "\\right)\n",
    "\\bigg]\n",
    "\\end{align}\n",
    "\n",
    "For both grade-levels indicators, the higher the grade, the more complex the sentence structures and words will appear in the document\n",
    "\n",
    "Below, implement the function `flesch_index` and `fog_index` that computes the readability grade level for a given text."
   ]
  },
  {
   "cell_type": "code",
   "execution_count": 138,
   "metadata": {
    "id": "eEMm2oIikhGV"
   },
   "outputs": [],
   "source": [
    "import numpy as np\n",
    "\n",
    "def flesch_index(text):\n",
    "\n",
    "    '''This function is used to compute flesch_index for each row of product description\n",
    "       to understand if readability of product description is somehow correlated with brands\n",
    "\n",
    "    Args:\n",
    "        text: str \n",
    "            a text document used to compute the Flesch-Kincaid Grade\n",
    "\n",
    "    Returns: float\n",
    "        Flesch-Kincaid Grade\n",
    "    '''\n",
    "\n",
    "    # count sentence\n",
    "    sentences = sent_tokenize(text)\n",
    "    \n",
    "    # total sentences\n",
    "    total_sentences = len(sentences)\n",
    "\n",
    "    # count how many words in a given sentence\n",
    "    total_words = np.sum([word_count(s) for s in sentences ])\n",
    "\n",
    "    # count the total number of syllables of a given sentence\n",
    "    total_syllables = np.sum([syllable_count(w) for s in sentences for w in word_tokenize(s)])\n",
    "\n",
    "    # compute the flshch_index based on the above predefined formula\n",
    "    return 0.39*(total_words/total_sentences) + 11.8*(total_syllables/total_words)-15.59\n",
    " \n",
    "def fog_index(text):\n",
    "    \n",
    "    '''This function is used to compute Gunning-Fog Grade for each row of product description or brand name\n",
    "       to understand if readability of product description or brand name is somehow correlated with brands\n",
    "    Args:\n",
    "        text: str \n",
    "            a text document used to compute the Gunning-fog Grade\n",
    "\n",
    "    Returns: float\n",
    "        Gunning-fog Grade\n",
    "    '''\n",
    "    # Tokenize sentences of the text\n",
    "    sentences = sent_tokenize(text)\n",
    "    # Compute how many sentences \n",
    "    total_sentences = len(sentences)\n",
    "    # Compute the total number of words\n",
    "    total_words = np.sum([word_count(s) for s in sentences ])\n",
    "    # Compute the total number of hard words, which have at least 3 syllables \n",
    "    hard_word = len([w for s in sentences for w in word_tokenize(s) if syllable_count(w) >=3])\n",
    "    \n",
    "    return 0.4*((total_words/total_sentences) + 100*(hard_word/total_words))"
   ]
  },
  {
   "cell_type": "markdown",
   "metadata": {
    "id": "DUVX2m7zANTF"
   },
   "source": [
    "# Create Numerical Variables"
   ]
  },
  {
   "cell_type": "markdown",
   "metadata": {
    "id": "_etpN_Q6J2Lo"
   },
   "source": [
    "## One-hot encoding X vaiables"
   ]
  },
  {
   "cell_type": "code",
   "execution_count": 139,
   "metadata": {
    "id": "vC5zVpnTAMxI"
   },
   "outputs": [],
   "source": [
    "# get the binary variables\n",
    "products_varaibles = products.filter(['is_womens_clothing','is_men_clothing','product_active',\\\n",
    "                                      'IS_SLIM_FIT','IS_RELAX_FIT','IS_DRY_CLEAN','product_creation_speed'\n",
    "                                     ])\n",
    "\n",
    "for col in ['origins','colors','model_size','material','product_category','quarter']:\n",
    "    products_varaibles = pd.concat([products_varaibles, pd.get_dummies(data = products[col],prefix=col ) ], axis = 1 )"
   ]
  },
  {
   "cell_type": "markdown",
   "metadata": {
    "id": "ubc2xDM_khGW"
   },
   "source": [
    "## Implement readability functions"
   ]
  },
  {
   "cell_type": "code",
   "execution_count": 140,
   "metadata": {
    "id": "H-LvYTYrkhGW"
   },
   "outputs": [],
   "source": [
    "# Implement Flesch–Kincaid and Gunning-Fog on products['Product_Descr']\n",
    "flesch_index_on_product_descr = products['description'].apply(flesch_index)\n",
    "fog_index_on_product_descr = products['description'].apply(fog_index)\n",
    "\n",
    "# Implement Flesch–Kincaid and Gunning-Fog on products['brand_name']\n",
    "flesch_index_on_brand_name = products['brand_name'].apply(flesch_index)\n",
    "fog_index_on_brand_name = products['brand_name'].apply(fog_index)\n",
    "\n",
    "# Assign the results back to the products_varaibles dataframe\n",
    "products_varaibles['flesch_prod_descr'] = flesch_index_on_product_descr\n",
    "products_varaibles['fog_prod_descr'] = fog_index_on_product_descr\n",
    "products_varaibles['flesch_brand_name'] = flesch_index_on_brand_name\n",
    "products_varaibles['fog_brand_name'] = fog_index_on_brand_name"
   ]
  },
  {
   "cell_type": "markdown",
   "metadata": {
    "id": "LN1ucnmxP2vU"
   },
   "source": [
    "## Remove all products that are for men products since behold is focusing on women's products"
   ]
  },
  {
   "cell_type": "code",
   "execution_count": 141,
   "metadata": {
    "id": "uDC9dLWSPe9Y"
   },
   "outputs": [],
   "source": [
    "products_varaibles = products_varaibles[products_varaibles['is_men_clothing'] == 0].reset_index(drop=True)\n",
    "products = products[products['is_men_clothing'] == 0].reset_index(drop=True)\n",
    "\n",
    "# remove is ''is_men_clothing'' variable\n",
    "products_varaibles = products_varaibles.drop(['is_men_clothing'],axis =1)"
   ]
  },
  {
   "cell_type": "code",
   "execution_count": 142,
   "metadata": {
    "colab": {
     "base_uri": "https://localhost:8080/"
    },
    "id": "Tq6AAnY_khGX",
    "outputId": "03504bc5-a04c-450b-c3a4-324e28ab4755"
   },
   "outputs": [
    {
     "data": {
      "text/plain": [
       "(60054, 78)"
      ]
     },
     "execution_count": 142,
     "metadata": {},
     "output_type": "execute_result"
    }
   ],
   "source": [
    "products_varaibles.shape"
   ]
  },
  {
   "cell_type": "markdown",
   "metadata": {
    "id": "WjVwPs6SJxAt"
   },
   "source": [
    "## Deal with Y Grouping & train test split\n",
    "\n",
    "- In this case, we grouped the most frequent 50 brands and classified the remaining as the `Others`\n",
    "- Therefore, Our target is 15% (baseline) and 50% (optimal)"
   ]
  },
  {
   "cell_type": "code",
   "execution_count": 143,
   "metadata": {
    "id": "FuHJljAHHS0_"
   },
   "outputs": [],
   "source": [
    "def y_grouping(y:pd.Series,top:int) -> pd.Series:\n",
    "    top_brand = y.value_counts().head(top).index.tolist()\n",
    "    return y.apply(lambda x: x if x in top_brand else 'Others')"
   ]
  },
  {
   "cell_type": "code",
   "execution_count": 144,
   "metadata": {
    "id": "uCehrk2DJE_g"
   },
   "outputs": [],
   "source": [
    "# This y-variable is used specificaly for Neural Network\n",
    "y_varaiables = pd.get_dummies(y_grouping(products[\"brand\"],top=50),prefix='y_brand')"
   ]
  },
  {
   "cell_type": "code",
   "execution_count": 145,
   "metadata": {
    "id": "MiJ3E1Dp-eYl"
   },
   "outputs": [],
   "source": [
    "# Label y as zero-based index for doing multi-class classification, extract the top 50 classes and group the others as \"Others\" in our cases\n",
    "y_raw = y_grouping(products[\"brand\"],top=50)\n",
    "\n",
    "map = pd.Series(data= np.arange(len(y_raw.unique())),\n",
    "                index=y_raw.unique()).to_dict()\n",
    "\n",
    "# convert y - brand as categorical variables\n",
    "y_raw = y_raw.map(map)"
   ]
  },
  {
   "cell_type": "code",
   "execution_count": 146,
   "metadata": {
    "colab": {
     "base_uri": "https://localhost:8080/"
    },
    "id": "mDhvUsLq-ivZ",
    "outputId": "cb98f496-8ccc-4eb4-d975-ee2679f38caf"
   },
   "outputs": [
    {
     "name": "stdout",
     "output_type": "stream",
     "text": [
      "48043\n",
      "48043\n",
      "12011\n",
      "12011\n"
     ]
    }
   ],
   "source": [
    "# Train test split, 80% as training set, 20% as testing set\n",
    "from sklearn.model_selection import train_test_split\n",
    "\n",
    "# traine test split\n",
    "X_train_clf, X_test_clf, y_train_clf, y_test_clf = train_test_split(products_varaibles, y_raw, shuffle= True,test_size=0.2, stratify = y_raw)\n",
    "\n",
    "# get index numbers\n",
    "# get the train test split index\n",
    "X_train_idx = X_train_clf.index\n",
    "X_test_idx = X_test_clf.index \n",
    "y_train_idx = y_train_clf.index\n",
    "y_test_idx = y_test_clf.index\n",
    "\n",
    "# check\n",
    "print(len(X_train_idx))\n",
    "print(len(y_train_idx))\n",
    "\n",
    "print(len(X_test_idx))\n",
    "print(len(y_test_idx))"
   ]
  },
  {
   "cell_type": "markdown",
   "metadata": {
    "id": "CfgXG1RekhGY"
   },
   "source": [
    "## Doc2vec Embdding of `clean_product_descr` and `clean_brand_name`\n",
    "\n",
    "- The rationale of doing word embedding on these two varaibles is typically `Product_Descr` and `brand_name` are highly likely unique and specific for each brand. In another perspective, it is reasonable to assume that a brand probably would use the same framework to compile product description and coin a new product name across their product offerings."
   ]
  },
  {
   "cell_type": "code",
   "execution_count": 147,
   "metadata": {
    "colab": {
     "base_uri": "https://localhost:8080/"
    },
    "id": "tRtmWo_xkhGY",
    "outputId": "01659f32-d57a-411d-b880-0e61c22e9f66"
   },
   "outputs": [
    {
     "name": "stderr",
     "output_type": "stream",
     "text": [
      "[nltk_data] Downloading package punkt to /Users/kwlwman2/nltk_data...\n",
      "[nltk_data]   Package punkt is already up-to-date!\n"
     ]
    }
   ],
   "source": [
    "# Import packages\n",
    "import nltk\n",
    "from nltk import word_tokenize\n",
    "nltk.download('punkt')\n",
    "import matplotlib.pyplot as plt\n",
    "import seaborn as sns "
   ]
  },
  {
   "cell_type": "markdown",
   "metadata": {
    "id": "NVNj3JNFaDBC"
   },
   "source": [
    "### `product_descr` embedding"
   ]
  },
  {
   "cell_type": "code",
   "execution_count": 148,
   "metadata": {
    "colab": {
     "base_uri": "https://localhost:8080/",
     "height": 268
    },
    "id": "tItp3_luNcQ6",
    "outputId": "490bc92b-331f-48f4-90a7-f01589bf68c4"
   },
   "outputs": [
    {
     "data": {
      "image/png": "[encoded data removed]",
      "text/plain": [
       "<Figure size 432x288 with 1 Axes>"
      ]
     },
     "metadata": {
      "needs_background": "light"
     },
     "output_type": "display_data"
    }
   ],
   "source": [
    "# ge the length of each token\n",
    "def sequence_len_dist(col):\n",
    "    length = products[col].fillna('no values').loc[X_train_idx].apply(lambda x: len(str(x).split(' ')))\n",
    "    # plot the distribution of the word length of each row of product description\n",
    "    plt.hist(length.values)\n",
    "    plt.show()\n",
    "\n",
    "sequence_len_dist('clean_product_descr')"
   ]
  },
  {
   "cell_type": "markdown",
   "metadata": {
    "id": "aFa2o5H-Z93K"
   },
   "source": [
    "### `brand_name` embedding\n",
    "\n",
    "\n"
   ]
  },
  {
   "cell_type": "code",
   "execution_count": 149,
   "metadata": {
    "colab": {
     "base_uri": "https://localhost:8080/",
     "height": 265
    },
    "id": "-qET_44DYk1H",
    "outputId": "2dc5cbba-0f18-4dfb-8b30-8e4b67a6c3ac"
   },
   "outputs": [
    {
     "data": {
      "image/png": "[encoded data removed]",
      "text/plain": [
       "<Figure size 432x288 with 1 Axes>"
      ]
     },
     "metadata": {
      "needs_background": "light"
     },
     "output_type": "display_data"
    }
   ],
   "source": [
    "# compute the word length of each brand\n",
    "sequence_len_dist('brand_name')"
   ]
  },
  {
   "cell_type": "code",
   "execution_count": 150,
   "metadata": {
    "id": "WstdSAVgR8m8"
   },
   "outputs": [],
   "source": [
    "# Extract train embedding and test embedding\n",
    "brand_name_train = products['clean_brand_name'].loc[X_train_idx]\n",
    "brand_name_test = products['clean_product_descr'].loc[X_test_idx]\n",
    "\n",
    "productdesc_clean_train = products['clean_product_descr'].loc[X_train_idx]\n",
    "productdesc_clean_test = products['clean_product_descr'].loc[X_test_idx]"
   ]
  },
  {
   "cell_type": "code",
   "execution_count": 151,
   "metadata": {
    "id": "gEkOVyicnHMi"
   },
   "outputs": [],
   "source": [
    "# for brand name \n",
    "from gensim.models.doc2vec import Doc2Vec, TaggedDocument\n",
    "\n",
    "# tagging documents\n",
    "documents = [TaggedDocument(str(doc).lower().strip(), [idx]) for idx, doc in list(zip(X_train_idx, brand_name_train.tolist()))]\n",
    "\n",
    "# train a new doc2vec model\n",
    "model_brand_name_clean = Doc2Vec(documents, vector_size=6, window=3, workers=4, seed=24,alpha=0.025,epochs=20)"
   ]
  },
  {
   "cell_type": "code",
   "execution_count": 152,
   "metadata": {
    "id": "EWB6A9V5nS7N"
   },
   "outputs": [],
   "source": [
    "# for product description\n",
    "\n",
    "# tagging documents\n",
    "documents = [TaggedDocument(str(doc).lower().strip(), [idx]) for idx, doc in list(zip(X_train_idx, productdesc_clean_train.tolist()))]\n",
    "\n",
    "# train a new doc2vec model\n",
    "model_product_descr_clean = Doc2Vec(documents, vector_size=200, window=6, min_count=2, workers=4, seed=24,alpha=0.025,epochs=20)"
   ]
  },
  {
   "cell_type": "code",
   "execution_count": 153,
   "metadata": {
    "id": "73-rg1fhtmfh"
   },
   "outputs": [],
   "source": [
    "from nltk import word_tokenize\n",
    "\n",
    "# infer the unseen product descr and brand name vector from trained genism doc2vec model \n",
    "def infer_vector(docs, model):\n",
    "    vector = []\n",
    "    for doc in docs:\n",
    "        tokens = word_tokenize(doc)\n",
    "        vec = model.infer_vector(tokens)\n",
    "        vector.append(vec)\n",
    "    return np.array(vector)\n",
    "\n",
    "brand_name_test_vec = infer_vector(brand_name_test, model_brand_name_clean)\n",
    "productdesc_test_vec = infer_vector(productdesc_clean_test, model_product_descr_clean)"
   ]
  },
  {
   "cell_type": "code",
   "execution_count": 154,
   "metadata": {
    "id": "HaqVClOFt0CI"
   },
   "outputs": [],
   "source": [
    "# extract the trained doc2vec embedding of product_descr and brand_name\n",
    "def get_trained_vec(train_index, model):\n",
    "    vector = []\n",
    "    for index in train_index:\n",
    "        vector.append(model[index])\n",
    "    return vector\n",
    "\n",
    "brand_name_trained_vector = get_trained_vec(X_train_idx, model_brand_name_clean)\n",
    "product_descr_trained_vector = get_trained_vec(X_train_idx, model_product_descr_clean)"
   ]
  },
  {
   "cell_type": "code",
   "execution_count": 160,
   "metadata": {
    "id": "GYTzrW6psNcP"
   },
   "outputs": [],
   "source": [
    "train_embedding = np.concatenate((np.array(product_descr_trained_vector),\n",
    "                                  np.array(brand_name_trained_vector)), \n",
    "                                 axis = 1)\n",
    "\n",
    "test_embedding = np.concatenate((np.array(productdesc_test_vec),\n",
    "                                  np.array(brand_name_test_vec )), axis = 1)\n",
    "\n",
    "# Check if sum of rows from two embedding match the original datasets\n",
    "assert train_embedding.shape[0] + test_embedding.shape[0] == products_varaibles.shape[0]"
   ]
  },
  {
   "cell_type": "code",
   "execution_count": 162,
   "metadata": {
    "colab": {
     "base_uri": "https://localhost:8080/"
    },
    "id": "re8FZG-3khGa",
    "outputId": "805fd75c-cfb2-43f2-99b5-dfabf2deaf26"
   },
   "outputs": [
    {
     "name": "stdout",
     "output_type": "stream",
     "text": [
      "test doc1:  M001 Narrow in Light Indigo Wash 4\n",
      "test doc2:  Hart\n",
      "The cosine sim of test 1 and 2 is:  [[-0.5039105]]\n"
     ]
    }
   ],
   "source": [
    "from sklearn.metrics.pairwise import cosine_similarity\n",
    "\n",
    "# how does test1 doc and test2 looks like \n",
    "def test_embedding_func(test1:int, test2:int, df):\n",
    "    print('test doc1: ', products['brand_name'][test1])\n",
    "    print('test doc2: ', products['brand_name'][test2])\n",
    "    \n",
    "    # do cos sine similarity\n",
    "    print('The cosine sim of test 1 and 2 is: ',\n",
    "          cosine_similarity(df.iloc[test1].values.reshape(1,-1), df.iloc[test2].values.reshape(1,-1)))\n",
    "\n",
    "# if two constrastingly different document get an extremely lower or negative score, then it proves the word embedding sucessful\n",
    "test_embedding_func(8086, 11921, pd.DataFrame(brand_name_test_vec,index=X_test_idx) )"
   ]
  },
  {
   "cell_type": "code",
   "execution_count": 163,
   "metadata": {
    "id": "HDckg5QRS_HB"
   },
   "outputs": [],
   "source": [
    "# Get the original X variables based on the X_train_idx\n",
    "train_variable_mat = products_varaibles.loc[X_train_idx].values\n",
    "\n",
    "test_variable_mat = products_varaibles.loc[X_test_idx].values"
   ]
  },
  {
   "cell_type": "code",
   "execution_count": 168,
   "metadata": {
    "id": "U3RohGxAQdzk"
   },
   "outputs": [],
   "source": [
    "# Combind the doc2vec embedding of both cleaned product description & brand name with the feantures engineered by our team\n",
    "X_train_data = np.concatenate((train_embedding, train_variable_mat), axis = 1)\n",
    "\n",
    "X_test_data = np.concatenate((test_embedding, test_variable_mat), axis = 1)"
   ]
  },
  {
   "cell_type": "code",
   "execution_count": 169,
   "metadata": {
    "colab": {
     "base_uri": "https://localhost:8080/"
    },
    "id": "kXpoYqXzUKVe",
    "outputId": "44c392d4-939f-433f-a5f7-301bc4e10ca3"
   },
   "outputs": [
    {
     "data": {
      "text/plain": [
       "RandomForestClassifier(bootstrap=True, ccp_alpha=0.0, class_weight=None,\n",
       "                       criterion='gini', max_depth=None, max_features='auto',\n",
       "                       max_leaf_nodes=None, max_samples=None,\n",
       "                       min_impurity_decrease=0.0, min_impurity_split=None,\n",
       "                       min_samples_leaf=1, min_samples_split=2,\n",
       "                       min_weight_fraction_leaf=0.0, n_estimators=100,\n",
       "                       n_jobs=None, oob_score=True, random_state=None,\n",
       "                       verbose=0, warm_start=False)"
      ]
     },
     "execution_count": 169,
     "metadata": {},
     "output_type": "execute_result"
    }
   ],
   "source": [
    "# Now Let‘s retrain a new random forest classifier model\n",
    "from sklearn.ensemble import RandomForestClassifier\n",
    "from sklearn.metrics import accuracy_score\n",
    "\n",
    "## initialize a randomforest classifier\n",
    "clf = RandomForestClassifier(oob_score = True)\n",
    "\n",
    "## fit a new randomfoest model\n",
    "clf.fit(X_train_data ,y_train_clf)"
   ]
  },
  {
   "cell_type": "code",
   "execution_count": 170,
   "metadata": {
    "colab": {
     "base_uri": "https://localhost:8080/"
    },
    "id": "xjYDZdD2U6gj",
    "outputId": "a8aae983-5868-4fae-dbe9-a47f2e2eb66c"
   },
   "outputs": [
    {
     "data": {
      "text/plain": [
       "0.49796020314711514"
      ]
     },
     "execution_count": 170,
     "metadata": {},
     "output_type": "execute_result"
    }
   ],
   "source": [
    "# make prediction\n",
    "y_predict = clf.predict(X_test_data)\n",
    "\n",
    "# Accuracy of our final prediction model\n",
    "accuracy_score(y_test_clf, y_predict)"
   ]
  },
  {
   "cell_type": "markdown",
   "metadata": {
    "id": "r0jqkqh2vgYP"
   },
   "source": [
    "- As we can see the out-of-bag score of Rf was around 70%, meaning the Random Forest can generalize well on unseen data during the training process\n",
    "- Therefore, Random Forest is the option we can go for"
   ]
  },
  {
   "cell_type": "code",
   "execution_count": 171,
   "metadata": {
    "colab": {
     "base_uri": "https://localhost:8080/"
    },
    "id": "pq6UHO1DWBmJ",
    "outputId": "6b791537-0bc8-4ee1-fe24-6f097fd77e7f"
   },
   "outputs": [
    {
     "data": {
      "text/plain": [
       "0.7696022313344296"
      ]
     },
     "execution_count": 171,
     "metadata": {},
     "output_type": "execute_result"
    }
   ],
   "source": [
    "clf.oob_score_"
   ]
  },
  {
   "cell_type": "markdown",
   "metadata": {
    "id": "LlXKZoo4xmQ3"
   },
   "source": [
    "- We also try HistGradientBoostingClassifier, a adpated version of Gradient Boosting trees but it is specifically used for multi-classification problem"
   ]
  },
  {
   "cell_type": "code",
   "execution_count": 172,
   "metadata": {
    "colab": {
     "base_uri": "https://localhost:8080/"
    },
    "id": "c2IyXdD6X_0j",
    "outputId": "0044390f-5b02-4526-ff62-b9a159eb09c6"
   },
   "outputs": [
    {
     "data": {
      "text/plain": [
       "HistGradientBoostingClassifier(l2_regularization=0.0, learning_rate=0.01,\n",
       "                               loss='categorical_crossentropy', max_bins=255,\n",
       "                               max_depth=None, max_iter=100, max_leaf_nodes=31,\n",
       "                               min_samples_leaf=20, n_iter_no_change=None,\n",
       "                               random_state=None, scoring=None, tol=1e-07,\n",
       "                               validation_fraction=0.1, verbose=0,\n",
       "                               warm_start=False)"
      ]
     },
     "execution_count": 172,
     "metadata": {},
     "output_type": "execute_result"
    }
   ],
   "source": [
    "from sklearn.experimental import enable_hist_gradient_boosting  # noqa\n",
    "from sklearn.ensemble import HistGradientBoostingClassifier\n",
    "\n",
    "# Use Hist Gradient Boosting Classification for multi classes\n",
    "hgc = HistGradientBoostingClassifier(loss = 'categorical_crossentropy',\n",
    "                                      learning_rate = 0.01)\n",
    "hgc.fit(X_train_data, y_train_clf)"
   ]
  },
  {
   "cell_type": "code",
   "execution_count": 173,
   "metadata": {
    "colab": {
     "base_uri": "https://localhost:8080/"
    },
    "id": "FSptXA2vX__6",
    "outputId": "0911778b-6096-4d9f-a318-39c5544e407e"
   },
   "outputs": [
    {
     "data": {
      "text/plain": [
       "0.591707601365415"
      ]
     },
     "execution_count": 173,
     "metadata": {},
     "output_type": "execute_result"
    }
   ],
   "source": [
    "y_predict = hgc.predict(X_test_data)\n",
    "accuracy_score(y_test_clf, y_predict)"
   ]
  },
  {
   "cell_type": "markdown",
   "metadata": {
    "id": "yVP2Q1WKJhVe"
   },
   "source": [
    "We also try AdaBoostClassifier, but the accuracy for AdaBoostClassifier is only around 25%, which is much lower than RandomForestClassifier and HistGrsdientBoostingClassifier, so we would not take it into the final consideration."
   ]
  },
  {
   "cell_type": "code",
   "execution_count": 174,
   "metadata": {
    "colab": {
     "base_uri": "https://localhost:8080/"
    },
    "id": "Qk9jU3Tv4sao",
    "outputId": "a7002407-e592-4b98-9b6a-014018913c57"
   },
   "outputs": [
    {
     "data": {
      "text/plain": [
       "AdaBoostClassifier(algorithm='SAMME.R', base_estimator=None, learning_rate=0.01,\n",
       "                   n_estimators=50, random_state=None)"
      ]
     },
     "execution_count": 174,
     "metadata": {},
     "output_type": "execute_result"
    }
   ],
   "source": [
    "from sklearn.ensemble import AdaBoostClassifier\n",
    "adaboost = AdaBoostClassifier(learning_rate = 0.01)\n",
    "adaboost.fit(X_train_data, y_train_clf)"
   ]
  },
  {
   "cell_type": "code",
   "execution_count": 175,
   "metadata": {
    "colab": {
     "base_uri": "https://localhost:8080/"
    },
    "id": "lp2-_Rdd5LwZ",
    "outputId": "4bdaa690-24d7-4a40-c9ef-1ef04be0cd78"
   },
   "outputs": [
    {
     "data": {
      "text/plain": [
       "0.239447173424361"
      ]
     },
     "execution_count": 175,
     "metadata": {},
     "output_type": "execute_result"
    }
   ],
   "source": [
    "y_predict = adaboost.predict(X_test_data)\n",
    "accuracy_score(y_test_clf, y_predict)"
   ]
  },
  {
   "cell_type": "markdown",
   "metadata": {
    "id": "6-ZDLYs7KR4V"
   },
   "source": [
    "We also try KNeighborsClassifier, the n_neighbors was set to 51, since we have 50 most common brands, and 1 class for all other brands. The accuracy for KNeighborsClassifier is around 50%, which is pretty close to RandomForestClassifier and HistGrsdientBoostingClassifier, so it is another option we can go for."
   ]
  },
  {
   "cell_type": "code",
   "execution_count": 176,
   "metadata": {
    "id": "jf_eox4h9kwS"
   },
   "outputs": [
    {
     "data": {
      "text/plain": [
       "KNeighborsClassifier(algorithm='auto', leaf_size=30, metric='minkowski',\n",
       "                     metric_params=None, n_jobs=None, n_neighbors=51, p=2,\n",
       "                     weights='uniform')"
      ]
     },
     "execution_count": 176,
     "metadata": {},
     "output_type": "execute_result"
    }
   ],
   "source": [
    "from sklearn.neighbors import KNeighborsClassifier\n",
    "neigh = KNeighborsClassifier(n_neighbors=51)\n",
    "neigh.fit(X_train_data, y_train_clf)"
   ]
  },
  {
   "cell_type": "code",
   "execution_count": 177,
   "metadata": {
    "colab": {
     "base_uri": "https://localhost:8080/"
    },
    "id": "fQenO8Va91aY",
    "outputId": "6a8623aa-edc1-4366-817f-6468ea339492"
   },
   "outputs": [
    {
     "data": {
      "text/plain": [
       "0.4907168428940138"
      ]
     },
     "execution_count": 177,
     "metadata": {},
     "output_type": "execute_result"
    }
   ],
   "source": [
    "y_predict = neigh.predict(X_test_data)\n",
    "accuracy_score(y_test_clf, y_predict)"
   ]
  },
  {
   "cell_type": "markdown",
   "metadata": {
    "id": "HuYyQlkvc6_h"
   },
   "source": [
    "# Conduct Cross Validation on Random Forest/ Hist Gradient Boosting Classification/ KNeighborsClassifier\n"
   ]
  },
  {
   "cell_type": "code",
   "execution_count": 178,
   "metadata": {
    "id": "CyDfLPiyehjl"
   },
   "outputs": [],
   "source": [
    "# Combine the train and test index to match the X_combine_test_train_embedding and y_raw for cross validation \n",
    "complete_idx_list = list(X_train_idx)\n",
    "complete_idx_list.extend(list(X_test_idx))\n",
    "\n",
    "# concatenate two X_train and X_test data\n",
    "X_combine_test_train_embedding = np.concatenate((X_train_data, X_test_data),axis=0)\n",
    "\n",
    "# convert combined data back to dataframe\n",
    "X_combine_test_train_embedding = pd.DataFrame(X_combine_test_train_embedding, index = complete_idx_list).sort_index()"
   ]
  },
  {
   "cell_type": "code",
   "execution_count": 179,
   "metadata": {
    "colab": {
     "base_uri": "https://localhost:8080/"
    },
    "id": "E96PPWRi03VG",
    "outputId": "e3d58428-9495-4c06-a7f8-10bd660c9404"
   },
   "outputs": [
    {
     "name": "stdout",
     "output_type": "stream",
     "text": [
      "[0.61585214 0.65723087 0.70701857 0.73024727 0.68293089]\n"
     ]
    }
   ],
   "source": [
    "# Conduct cross_val_score on Random Forest Classifer\n",
    "from sklearn.model_selection import cross_val_score\n",
    "cross_val_score_clf = cross_val_score(estimator = RandomForestClassifier(), \n",
    "                X = X_combine_test_train_embedding, \n",
    "                y = y_raw, \n",
    "                cv = 5, \n",
    "                n_jobs = -1,\n",
    "                scoring = 'accuracy'\n",
    "                )\n",
    "print(cross_val_score_clf)"
   ]
  },
  {
   "cell_type": "code",
   "execution_count": 180,
   "metadata": {
    "colab": {
     "base_uri": "https://localhost:8080/"
    },
    "id": "rHa1JaA3Rrjm",
    "outputId": "0d27f2aa-370a-486e-895f-74658fe71ef4"
   },
   "outputs": [
    {
     "name": "stdout",
     "output_type": "stream",
     "text": [
      "The average accuracy score for Random Forest Classifer is 67.87%\n"
     ]
    }
   ],
   "source": [
    "print(f'The average accuracy score for Random Forest Classifer is {round(cross_val_score_clf.mean()*100,2)}%')"
   ]
  },
  {
   "cell_type": "code",
   "execution_count": 181,
   "metadata": {
    "colab": {
     "base_uri": "https://localhost:8080/"
    },
    "id": "nTsLfC4yK3Jw",
    "outputId": "7af917c6-6ac8-47ff-cbf8-a344658675be"
   },
   "outputs": [
    {
     "name": "stdout",
     "output_type": "stream",
     "text": [
      "[0.63608359 0.69294813 0.75114478 0.76063608 0.67910075]\n"
     ]
    }
   ],
   "source": [
    "# Conduct cross_val_score on Hist Gradient Boosting Classification\n",
    "hgc_ = HistGradientBoostingClassifier(loss = 'categorical_crossentropy', learning_rate = 0.025)\n",
    "\n",
    "cross_val_score_hist = cross_val_score(estimator = hgc_, \n",
    "                                       X = X_combine_test_train_embedding, \n",
    "                                       y = y_raw, cv = 5, \n",
    "                                       n_jobs = -1,\n",
    "                                       scoring = 'accuracy')\n",
    "\n",
    "print(cross_val_score_hist)"
   ]
  },
  {
   "cell_type": "code",
   "execution_count": 182,
   "metadata": {
    "colab": {
     "base_uri": "https://localhost:8080/"
    },
    "id": "PXGzwHycR0He",
    "outputId": "9d35c78a-1275-4dca-8ebe-3e7f803a671b"
   },
   "outputs": [
    {
     "name": "stdout",
     "output_type": "stream",
     "text": [
      "The average accuracy score for Hist Gradient Boosting Classifer is 70.4%\n"
     ]
    }
   ],
   "source": [
    "print(f'The average accuracy score for Hist Gradient Boosting Classifer is {round(cross_val_score_hist.mean()*100,2)}%')"
   ]
  },
  {
   "cell_type": "code",
   "execution_count": 183,
   "metadata": {
    "colab": {
     "base_uri": "https://localhost:8080/"
    },
    "id": "JaNVLcDmI4Qw",
    "outputId": "def0c47b-a2b9-43ff-b13a-c6ef70d79a3b"
   },
   "outputs": [
    {
     "name": "stdout",
     "output_type": "stream",
     "text": [
      "[0.34160353 0.39680293 0.48480559 0.48447257 0.45786844]\n"
     ]
    }
   ],
   "source": [
    "# Conduct cross_val_score on KNeighborsClassifier\n",
    "neigh_ = KNeighborsClassifier(n_neighbors=51)\n",
    "\n",
    "cross_val_score_neigh = cross_val_score(estimator = neigh_, \n",
    "                                       X = X_combine_test_train_embedding, \n",
    "                                       y = y_raw, cv = 5, \n",
    "                                       n_jobs = -1,\n",
    "                                       scoring = 'accuracy')\n",
    "\n",
    "print(cross_val_score_neigh)"
   ]
  },
  {
   "cell_type": "code",
   "execution_count": 184,
   "metadata": {
    "colab": {
     "base_uri": "https://localhost:8080/"
    },
    "id": "wa36O5x3R2jA",
    "outputId": "95721033-3ad1-464b-9376-28c7d7f52727"
   },
   "outputs": [
    {
     "name": "stdout",
     "output_type": "stream",
     "text": [
      "The average accuracy score for KNeighbors Classifier is 43.31%\n"
     ]
    }
   ],
   "source": [
    "print(f'The average accuracy score for KNeighbors Classifier is {round(cross_val_score_neigh.mean()*100,2)}%')"
   ]
  },
  {
   "cell_type": "markdown",
   "metadata": {
    "id": "HkEpVzpJ4cov"
   },
   "source": [
    "# Conclusion"
   ]
  },
  {
   "cell_type": "markdown",
   "metadata": {
    "id": "AnOtH_NVS30H"
   },
   "source": [
    "In conclusion, after `Cross Validation` on `RandomForest classifier`, `HistGradientBoosting` classifier and `KNeighbors classifier`, we can see that `HistGradientBoosting classifier` delivers the best performance among all three models. The average accuracy score for `Hist Gradient Boosting Classifer` is **70.4%**. So we choose the `HistGradientBoosting classifier` as our final selected model.\n",
    "\n"
   ]
  },
  {
   "cell_type": "code",
   "execution_count": null,
   "metadata": {},
   "outputs": [],
   "source": []
  }
 ],
 "metadata": {
  "colab": {
   "collapsed_sections": [
    "ubc2xDM_khGW",
    "LN1ucnmxP2vU",
    "WjVwPs6SJxAt",
    "NVNj3JNFaDBC"
   ],
   "machine_shape": "hm",
   "name": "Final_Project_Part1_V4.ipynb",
   "provenance": []
  },
  "kernelspec": {
   "display_name": "Python 3",
   "language": "python",
   "name": "python3"
  },
  "language_info": {
   "codemirror_mode": {
    "name": "ipython",
    "version": 3
   },
   "file_extension": ".py",
   "mimetype": "text/x-python",
   "name": "python",
   "nbconvert_exporter": "python",
   "pygments_lexer": "ipython3",
   "version": "3.7.6"
  },
  "widgets": {
   "application/vnd.jupyter.widget-state+json": {
    "135ca9613d5749e482584e13c5edc2c5": {
     "model_module": "@jupyter-widgets/base",
     "model_name": "LayoutModel",
     "state": {
      "_model_module": "@jupyter-widgets/base",
      "_model_module_version": "1.2.0",
      "_model_name": "LayoutModel",
      "_view_count": null,
      "_view_module": "@jupyter-widgets/base",
      "_view_module_version": "1.2.0",
      "_view_name": "LayoutView",
      "align_content": null,
      "align_items": null,
      "align_self": null,
      "border": null,
      "bottom": null,
      "display": null,
      "flex": null,
      "flex_flow": null,
      "grid_area": null,
      "grid_auto_columns": null,
      "grid_auto_flow": null,
      "grid_auto_rows": null,
      "grid_column": null,
      "grid_gap": null,
      "grid_row": null,
      "grid_template_areas": null,
      "grid_template_columns": null,
      "grid_template_rows": null,
      "height": null,
      "justify_content": null,
      "justify_items": null,
      "left": null,
      "margin": null,
      "max_height": null,
      "max_width": null,
      "min_height": null,
      "min_width": null,
      "object_fit": null,
      "object_position": null,
      "order": null,
      "overflow": null,
      "overflow_x": null,
      "overflow_y": null,
      "padding": null,
      "right": null,
      "top": null,
      "visibility": null,
      "width": null
     }
    },
    "1e40553438334aac9855cd2d45f57b8f": {
     "model_module": "@jupyter-widgets/controls",
     "model_name": "DescriptionStyleModel",
     "state": {
      "_model_module": "@jupyter-widgets/controls",
      "_model_module_version": "1.5.0",
      "_model_name": "DescriptionStyleModel",
      "_view_count": null,
      "_view_module": "@jupyter-widgets/base",
      "_view_module_version": "1.2.0",
      "_view_name": "StyleView",
      "description_width": ""
     }
    },
    "33391b86ca5948eeaa77943b38960767": {
     "model_module": "@jupyter-widgets/controls",
     "model_name": "ProgressStyleModel",
     "state": {
      "_model_module": "@jupyter-widgets/controls",
      "_model_module_version": "1.5.0",
      "_model_name": "ProgressStyleModel",
      "_view_count": null,
      "_view_module": "@jupyter-widgets/base",
      "_view_module_version": "1.2.0",
      "_view_name": "StyleView",
      "bar_color": null,
      "description_width": "initial"
     }
    },
    "4415abe6109445d883b1b20c2791de0c": {
     "model_module": "@jupyter-widgets/base",
     "model_name": "LayoutModel",
     "state": {
      "_model_module": "@jupyter-widgets/base",
      "_model_module_version": "1.2.0",
      "_model_name": "LayoutModel",
      "_view_count": null,
      "_view_module": "@jupyter-widgets/base",
      "_view_module_version": "1.2.0",
      "_view_name": "LayoutView",
      "align_content": null,
      "align_items": null,
      "align_self": null,
      "border": null,
      "bottom": null,
      "display": null,
      "flex": null,
      "flex_flow": null,
      "grid_area": null,
      "grid_auto_columns": null,
      "grid_auto_flow": null,
      "grid_auto_rows": null,
      "grid_column": null,
      "grid_gap": null,
      "grid_row": null,
      "grid_template_areas": null,
      "grid_template_columns": null,
      "grid_template_rows": null,
      "height": null,
      "justify_content": null,
      "justify_items": null,
      "left": null,
      "margin": null,
      "max_height": null,
      "max_width": null,
      "min_height": null,
      "min_width": null,
      "object_fit": null,
      "object_position": null,
      "order": null,
      "overflow": null,
      "overflow_x": null,
      "overflow_y": null,
      "padding": null,
      "right": null,
      "top": null,
      "visibility": null,
      "width": null
     }
    },
    "443852ece0ad44d8a624a157831da4ab": {
     "model_module": "@jupyter-widgets/base",
     "model_name": "LayoutModel",
     "state": {
      "_model_module": "@jupyter-widgets/base",
      "_model_module_version": "1.2.0",
      "_model_name": "LayoutModel",
      "_view_count": null,
      "_view_module": "@jupyter-widgets/base",
      "_view_module_version": "1.2.0",
      "_view_name": "LayoutView",
      "align_content": null,
      "align_items": null,
      "align_self": null,
      "border": null,
      "bottom": null,
      "display": null,
      "flex": null,
      "flex_flow": null,
      "grid_area": null,
      "grid_auto_columns": null,
      "grid_auto_flow": null,
      "grid_auto_rows": null,
      "grid_column": null,
      "grid_gap": null,
      "grid_row": null,
      "grid_template_areas": null,
      "grid_template_columns": null,
      "grid_template_rows": null,
      "height": null,
      "justify_content": null,
      "justify_items": null,
      "left": null,
      "margin": null,
      "max_height": null,
      "max_width": null,
      "min_height": null,
      "min_width": null,
      "object_fit": null,
      "object_position": null,
      "order": null,
      "overflow": null,
      "overflow_x": null,
      "overflow_y": null,
      "padding": null,
      "right": null,
      "top": null,
      "visibility": null,
      "width": null
     }
    },
    "59031e167f96471ab5c766b7a1562b55": {
     "model_module": "@jupyter-widgets/controls",
     "model_name": "ProgressStyleModel",
     "state": {
      "_model_module": "@jupyter-widgets/controls",
      "_model_module_version": "1.5.0",
      "_model_name": "ProgressStyleModel",
      "_view_count": null,
      "_view_module": "@jupyter-widgets/base",
      "_view_module_version": "1.2.0",
      "_view_name": "StyleView",
      "bar_color": null,
      "description_width": "initial"
     }
    },
    "6e89a0296d97498ea480476581dfdc6b": {
     "model_module": "@jupyter-widgets/controls",
     "model_name": "FloatProgressModel",
     "state": {
      "_dom_classes": [],
      "_model_module": "@jupyter-widgets/controls",
      "_model_module_version": "1.5.0",
      "_model_name": "FloatProgressModel",
      "_view_count": null,
      "_view_module": "@jupyter-widgets/controls",
      "_view_module_version": "1.5.0",
      "_view_name": "ProgressView",
      "bar_style": "success",
      "description": "100%",
      "description_tooltip": null,
      "layout": "IPY_MODEL_135ca9613d5749e482584e13c5edc2c5",
      "max": 61355,
      "min": 0,
      "orientation": "horizontal",
      "style": "IPY_MODEL_33391b86ca5948eeaa77943b38960767",
      "value": 61355
     }
    },
    "7dd92f4463cd4bb99d3835249b37e5d0": {
     "model_module": "@jupyter-widgets/base",
     "model_name": "LayoutModel",
     "state": {
      "_model_module": "@jupyter-widgets/base",
      "_model_module_version": "1.2.0",
      "_model_name": "LayoutModel",
      "_view_count": null,
      "_view_module": "@jupyter-widgets/base",
      "_view_module_version": "1.2.0",
      "_view_name": "LayoutView",
      "align_content": null,
      "align_items": null,
      "align_self": null,
      "border": null,
      "bottom": null,
      "display": null,
      "flex": null,
      "flex_flow": null,
      "grid_area": null,
      "grid_auto_columns": null,
      "grid_auto_flow": null,
      "grid_auto_rows": null,
      "grid_column": null,
      "grid_gap": null,
      "grid_row": null,
      "grid_template_areas": null,
      "grid_template_columns": null,
      "grid_template_rows": null,
      "height": null,
      "justify_content": null,
      "justify_items": null,
      "left": null,
      "margin": null,
      "max_height": null,
      "max_width": null,
      "min_height": null,
      "min_width": null,
      "object_fit": null,
      "object_position": null,
      "order": null,
      "overflow": null,
      "overflow_x": null,
      "overflow_y": null,
      "padding": null,
      "right": null,
      "top": null,
      "visibility": null,
      "width": null
     }
    },
    "912514fd36604fb5ab0cb1bfa09553bd": {
     "model_module": "@jupyter-widgets/base",
     "model_name": "LayoutModel",
     "state": {
      "_model_module": "@jupyter-widgets/base",
      "_model_module_version": "1.2.0",
      "_model_name": "LayoutModel",
      "_view_count": null,
      "_view_module": "@jupyter-widgets/base",
      "_view_module_version": "1.2.0",
      "_view_name": "LayoutView",
      "align_content": null,
      "align_items": null,
      "align_self": null,
      "border": null,
      "bottom": null,
      "display": null,
      "flex": null,
      "flex_flow": null,
      "grid_area": null,
      "grid_auto_columns": null,
      "grid_auto_flow": null,
      "grid_auto_rows": null,
      "grid_column": null,
      "grid_gap": null,
      "grid_row": null,
      "grid_template_areas": null,
      "grid_template_columns": null,
      "grid_template_rows": null,
      "height": null,
      "justify_content": null,
      "justify_items": null,
      "left": null,
      "margin": null,
      "max_height": null,
      "max_width": null,
      "min_height": null,
      "min_width": null,
      "object_fit": null,
      "object_position": null,
      "order": null,
      "overflow": null,
      "overflow_x": null,
      "overflow_y": null,
      "padding": null,
      "right": null,
      "top": null,
      "visibility": null,
      "width": null
     }
    },
    "9d56352cbce24760bc754bbb117631ff": {
     "model_module": "@jupyter-widgets/controls",
     "model_name": "FloatProgressModel",
     "state": {
      "_dom_classes": [],
      "_model_module": "@jupyter-widgets/controls",
      "_model_module_version": "1.5.0",
      "_model_name": "FloatProgressModel",
      "_view_count": null,
      "_view_module": "@jupyter-widgets/controls",
      "_view_module_version": "1.5.0",
      "_view_name": "ProgressView",
      "bar_style": "success",
      "description": "100%",
      "description_tooltip": null,
      "layout": "IPY_MODEL_4415abe6109445d883b1b20c2791de0c",
      "max": 61355,
      "min": 0,
      "orientation": "horizontal",
      "style": "IPY_MODEL_59031e167f96471ab5c766b7a1562b55",
      "value": 61355
     }
    },
    "9f9972285ef34cc894d8d0024c7bde62": {
     "model_module": "@jupyter-widgets/controls",
     "model_name": "HTMLModel",
     "state": {
      "_dom_classes": [],
      "_model_module": "@jupyter-widgets/controls",
      "_model_module_version": "1.5.0",
      "_model_name": "HTMLModel",
      "_view_count": null,
      "_view_module": "@jupyter-widgets/controls",
      "_view_module_version": "1.5.0",
      "_view_name": "HTMLView",
      "description": "",
      "description_tooltip": null,
      "layout": "IPY_MODEL_443852ece0ad44d8a624a157831da4ab",
      "placeholder": "​",
      "style": "IPY_MODEL_1e40553438334aac9855cd2d45f57b8f",
      "value": " 61355/61355 [31:39&lt;00:00, 32.30it/s]"
     }
    },
    "a45d92bc966046088dd4e4361c094280": {
     "model_module": "@jupyter-widgets/controls",
     "model_name": "HBoxModel",
     "state": {
      "_dom_classes": [],
      "_model_module": "@jupyter-widgets/controls",
      "_model_module_version": "1.5.0",
      "_model_name": "HBoxModel",
      "_view_count": null,
      "_view_module": "@jupyter-widgets/controls",
      "_view_module_version": "1.5.0",
      "_view_name": "HBoxView",
      "box_style": "",
      "children": [
       "IPY_MODEL_6e89a0296d97498ea480476581dfdc6b",
       "IPY_MODEL_ecfdcf3414ef4a2db5c52b9f8bd45351"
      ],
      "layout": "IPY_MODEL_7dd92f4463cd4bb99d3835249b37e5d0"
     }
    },
    "bc87d2d6dc254dd6aa1b56809ff95a02": {
     "model_module": "@jupyter-widgets/controls",
     "model_name": "HBoxModel",
     "state": {
      "_dom_classes": [],
      "_model_module": "@jupyter-widgets/controls",
      "_model_module_version": "1.5.0",
      "_model_name": "HBoxModel",
      "_view_count": null,
      "_view_module": "@jupyter-widgets/controls",
      "_view_module_version": "1.5.0",
      "_view_name": "HBoxView",
      "box_style": "",
      "children": [
       "IPY_MODEL_9d56352cbce24760bc754bbb117631ff",
       "IPY_MODEL_9f9972285ef34cc894d8d0024c7bde62"
      ],
      "layout": "IPY_MODEL_e76b4b5d69d449c98e333bd8998fed51"
     }
    },
    "c1eb591ee7854b39b72c6af1f0cf468b": {
     "model_module": "@jupyter-widgets/controls",
     "model_name": "DescriptionStyleModel",
     "state": {
      "_model_module": "@jupyter-widgets/controls",
      "_model_module_version": "1.5.0",
      "_model_name": "DescriptionStyleModel",
      "_view_count": null,
      "_view_module": "@jupyter-widgets/base",
      "_view_module_version": "1.2.0",
      "_view_name": "StyleView",
      "description_width": ""
     }
    },
    "e76b4b5d69d449c98e333bd8998fed51": {
     "model_module": "@jupyter-widgets/base",
     "model_name": "LayoutModel",
     "state": {
      "_model_module": "@jupyter-widgets/base",
      "_model_module_version": "1.2.0",
      "_model_name": "LayoutModel",
      "_view_count": null,
      "_view_module": "@jupyter-widgets/base",
      "_view_module_version": "1.2.0",
      "_view_name": "LayoutView",
      "align_content": null,
      "align_items": null,
      "align_self": null,
      "border": null,
      "bottom": null,
      "display": null,
      "flex": null,
      "flex_flow": null,
      "grid_area": null,
      "grid_auto_columns": null,
      "grid_auto_flow": null,
      "grid_auto_rows": null,
      "grid_column": null,
      "grid_gap": null,
      "grid_row": null,
      "grid_template_areas": null,
      "grid_template_columns": null,
      "grid_template_rows": null,
      "height": null,
      "justify_content": null,
      "justify_items": null,
      "left": null,
      "margin": null,
      "max_height": null,
      "max_width": null,
      "min_height": null,
      "min_width": null,
      "object_fit": null,
      "object_position": null,
      "order": null,
      "overflow": null,
      "overflow_x": null,
      "overflow_y": null,
      "padding": null,
      "right": null,
      "top": null,
      "visibility": null,
      "width": null
     }
    },
    "ecfdcf3414ef4a2db5c52b9f8bd45351": {
     "model_module": "@jupyter-widgets/controls",
     "model_name": "HTMLModel",
     "state": {
      "_dom_classes": [],
      "_model_module": "@jupyter-widgets/controls",
      "_model_module_version": "1.5.0",
      "_model_name": "HTMLModel",
      "_view_count": null,
      "_view_module": "@jupyter-widgets/controls",
      "_view_module_version": "1.5.0",
      "_view_name": "HTMLView",
      "description": "",
      "description_tooltip": null,
      "layout": "IPY_MODEL_912514fd36604fb5ab0cb1bfa09553bd",
      "placeholder": "​",
      "style": "IPY_MODEL_c1eb591ee7854b39b72c6af1f0cf468b",
      "value": " 61355/61355 [24:11&lt;00:00, 42.27it/s]"
     }
    }
   }
  }
 },
 "nbformat": 4,
 "nbformat_minor": 1
}
